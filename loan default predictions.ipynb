{
 "cells": [
  {
   "cell_type": "code",
   "execution_count": 1,
   "id": "b525f80c",
   "metadata": {},
   "outputs": [],
   "source": [
    "import pandas as pd\n",
    "import numpy as np\n",
    "import matplotlib.pyplot as plt\n",
    "import seaborn as sns"
   ]
  },
  {
   "cell_type": "code",
   "execution_count": 2,
   "id": "96a512b3",
   "metadata": {},
   "outputs": [],
   "source": [
    "train=pd.read_csv(\"Desktop/Analytics_Vidhya/summer training/train_LZV4RXX.csv\")\n",
    "test=pd.read_csv(\"Desktop/Analytics_Vidhya/summer training/test_4zJg83n.csv\")\n",
    "submission=pd.read_csv(\"Desktop/Analytics_Vidhya/summer training/sample_submission_tbPU9qQ.csv\")"
   ]
  },
  {
   "cell_type": "code",
   "execution_count": 3,
   "id": "999cc070",
   "metadata": {},
   "outputs": [
    {
     "data": {
      "text/html": [
       "<div>\n",
       "<style scoped>\n",
       "    .dataframe tbody tr th:only-of-type {\n",
       "        vertical-align: middle;\n",
       "    }\n",
       "\n",
       "    .dataframe tbody tr th {\n",
       "        vertical-align: top;\n",
       "    }\n",
       "\n",
       "    .dataframe thead th {\n",
       "        text-align: right;\n",
       "    }\n",
       "</style>\n",
       "<table border=\"1\" class=\"dataframe\">\n",
       "  <thead>\n",
       "    <tr style=\"text-align: right;\">\n",
       "      <th></th>\n",
       "      <th>loan_id</th>\n",
       "      <th>age</th>\n",
       "      <th>education</th>\n",
       "      <th>proof_submitted</th>\n",
       "      <th>loan_amount</th>\n",
       "      <th>asset_cost</th>\n",
       "      <th>no_of_loans</th>\n",
       "      <th>no_of_curr_loans</th>\n",
       "      <th>last_delinq_none</th>\n",
       "      <th>loan_default</th>\n",
       "    </tr>\n",
       "  </thead>\n",
       "  <tbody>\n",
       "    <tr>\n",
       "      <th>0</th>\n",
       "      <td>1</td>\n",
       "      <td>27</td>\n",
       "      <td>1.0</td>\n",
       "      <td>Aadhar</td>\n",
       "      <td>504264</td>\n",
       "      <td>820920</td>\n",
       "      <td>2</td>\n",
       "      <td>2</td>\n",
       "      <td>0</td>\n",
       "      <td>0</td>\n",
       "    </tr>\n",
       "    <tr>\n",
       "      <th>1</th>\n",
       "      <td>2</td>\n",
       "      <td>48</td>\n",
       "      <td>1.0</td>\n",
       "      <td>Aadhar</td>\n",
       "      <td>728556</td>\n",
       "      <td>831444</td>\n",
       "      <td>6</td>\n",
       "      <td>2</td>\n",
       "      <td>0</td>\n",
       "      <td>0</td>\n",
       "    </tr>\n",
       "    <tr>\n",
       "      <th>2</th>\n",
       "      <td>3</td>\n",
       "      <td>30</td>\n",
       "      <td>2.0</td>\n",
       "      <td>VoterID</td>\n",
       "      <td>642936</td>\n",
       "      <td>826092</td>\n",
       "      <td>0</td>\n",
       "      <td>0</td>\n",
       "      <td>0</td>\n",
       "      <td>1</td>\n",
       "    </tr>\n",
       "    <tr>\n",
       "      <th>3</th>\n",
       "      <td>4</td>\n",
       "      <td>28</td>\n",
       "      <td>1.0</td>\n",
       "      <td>Aadhar</td>\n",
       "      <td>746556</td>\n",
       "      <td>930924</td>\n",
       "      <td>0</td>\n",
       "      <td>0</td>\n",
       "      <td>0</td>\n",
       "      <td>0</td>\n",
       "    </tr>\n",
       "    <tr>\n",
       "      <th>4</th>\n",
       "      <td>5</td>\n",
       "      <td>29</td>\n",
       "      <td>1.0</td>\n",
       "      <td>Aadhar</td>\n",
       "      <td>1139880</td>\n",
       "      <td>1902000</td>\n",
       "      <td>0</td>\n",
       "      <td>0</td>\n",
       "      <td>0</td>\n",
       "      <td>0</td>\n",
       "    </tr>\n",
       "  </tbody>\n",
       "</table>\n",
       "</div>"
      ],
      "text/plain": [
       "   loan_id  age  education proof_submitted  loan_amount  asset_cost  \\\n",
       "0        1   27        1.0          Aadhar       504264      820920   \n",
       "1        2   48        1.0          Aadhar       728556      831444   \n",
       "2        3   30        2.0         VoterID       642936      826092   \n",
       "3        4   28        1.0          Aadhar       746556      930924   \n",
       "4        5   29        1.0          Aadhar      1139880     1902000   \n",
       "\n",
       "   no_of_loans  no_of_curr_loans  last_delinq_none  loan_default  \n",
       "0            2                 2                 0             0  \n",
       "1            6                 2                 0             0  \n",
       "2            0                 0                 0             1  \n",
       "3            0                 0                 0             0  \n",
       "4            0                 0                 0             0  "
      ]
     },
     "execution_count": 3,
     "metadata": {},
     "output_type": "execute_result"
    }
   ],
   "source": [
    "train.head()"
   ]
  },
  {
   "cell_type": "code",
   "execution_count": 4,
   "id": "dd3bbd3c",
   "metadata": {},
   "outputs": [
    {
     "data": {
      "text/html": [
       "<div>\n",
       "<style scoped>\n",
       "    .dataframe tbody tr th:only-of-type {\n",
       "        vertical-align: middle;\n",
       "    }\n",
       "\n",
       "    .dataframe tbody tr th {\n",
       "        vertical-align: top;\n",
       "    }\n",
       "\n",
       "    .dataframe thead th {\n",
       "        text-align: right;\n",
       "    }\n",
       "</style>\n",
       "<table border=\"1\" class=\"dataframe\">\n",
       "  <thead>\n",
       "    <tr style=\"text-align: right;\">\n",
       "      <th></th>\n",
       "      <th>loan_id</th>\n",
       "      <th>age</th>\n",
       "      <th>education</th>\n",
       "      <th>proof_submitted</th>\n",
       "      <th>loan_amount</th>\n",
       "      <th>asset_cost</th>\n",
       "      <th>no_of_loans</th>\n",
       "      <th>no_of_curr_loans</th>\n",
       "      <th>last_delinq_none</th>\n",
       "    </tr>\n",
       "  </thead>\n",
       "  <tbody>\n",
       "    <tr>\n",
       "      <th>0</th>\n",
       "      <td>7001</td>\n",
       "      <td>29</td>\n",
       "      <td>1.0</td>\n",
       "      <td>Aadhar</td>\n",
       "      <td>636936</td>\n",
       "      <td>768240</td>\n",
       "      <td>2</td>\n",
       "      <td>2</td>\n",
       "      <td>0</td>\n",
       "    </tr>\n",
       "    <tr>\n",
       "      <th>1</th>\n",
       "      <td>7002</td>\n",
       "      <td>28</td>\n",
       "      <td>1.0</td>\n",
       "      <td>Aadhar</td>\n",
       "      <td>548988</td>\n",
       "      <td>693060</td>\n",
       "      <td>3</td>\n",
       "      <td>3</td>\n",
       "      <td>0</td>\n",
       "    </tr>\n",
       "    <tr>\n",
       "      <th>2</th>\n",
       "      <td>7003</td>\n",
       "      <td>28</td>\n",
       "      <td>1.0</td>\n",
       "      <td>Aadhar</td>\n",
       "      <td>651756</td>\n",
       "      <td>936600</td>\n",
       "      <td>0</td>\n",
       "      <td>0</td>\n",
       "      <td>0</td>\n",
       "    </tr>\n",
       "    <tr>\n",
       "      <th>3</th>\n",
       "      <td>7004</td>\n",
       "      <td>45</td>\n",
       "      <td>2.0</td>\n",
       "      <td>Aadhar</td>\n",
       "      <td>614676</td>\n",
       "      <td>744840</td>\n",
       "      <td>4</td>\n",
       "      <td>3</td>\n",
       "      <td>0</td>\n",
       "    </tr>\n",
       "    <tr>\n",
       "      <th>4</th>\n",
       "      <td>7005</td>\n",
       "      <td>48</td>\n",
       "      <td>1.0</td>\n",
       "      <td>Aadhar</td>\n",
       "      <td>625236</td>\n",
       "      <td>839400</td>\n",
       "      <td>0</td>\n",
       "      <td>0</td>\n",
       "      <td>0</td>\n",
       "    </tr>\n",
       "  </tbody>\n",
       "</table>\n",
       "</div>"
      ],
      "text/plain": [
       "   loan_id  age  education proof_submitted  loan_amount  asset_cost  \\\n",
       "0     7001   29        1.0          Aadhar       636936      768240   \n",
       "1     7002   28        1.0          Aadhar       548988      693060   \n",
       "2     7003   28        1.0          Aadhar       651756      936600   \n",
       "3     7004   45        2.0          Aadhar       614676      744840   \n",
       "4     7005   48        1.0          Aadhar       625236      839400   \n",
       "\n",
       "   no_of_loans  no_of_curr_loans  last_delinq_none  \n",
       "0            2                 2                 0  \n",
       "1            3                 3                 0  \n",
       "2            0                 0                 0  \n",
       "3            4                 3                 0  \n",
       "4            0                 0                 0  "
      ]
     },
     "execution_count": 4,
     "metadata": {},
     "output_type": "execute_result"
    }
   ],
   "source": [
    "test.head()"
   ]
  },
  {
   "cell_type": "code",
   "execution_count": 5,
   "id": "e6ab3eb8",
   "metadata": {},
   "outputs": [
    {
     "data": {
      "text/html": [
       "<div>\n",
       "<style scoped>\n",
       "    .dataframe tbody tr th:only-of-type {\n",
       "        vertical-align: middle;\n",
       "    }\n",
       "\n",
       "    .dataframe tbody tr th {\n",
       "        vertical-align: top;\n",
       "    }\n",
       "\n",
       "    .dataframe thead th {\n",
       "        text-align: right;\n",
       "    }\n",
       "</style>\n",
       "<table border=\"1\" class=\"dataframe\">\n",
       "  <thead>\n",
       "    <tr style=\"text-align: right;\">\n",
       "      <th></th>\n",
       "      <th>loan_id</th>\n",
       "      <th>loan_default</th>\n",
       "    </tr>\n",
       "  </thead>\n",
       "  <tbody>\n",
       "    <tr>\n",
       "      <th>0</th>\n",
       "      <td>7001</td>\n",
       "      <td>1</td>\n",
       "    </tr>\n",
       "    <tr>\n",
       "      <th>1</th>\n",
       "      <td>7002</td>\n",
       "      <td>1</td>\n",
       "    </tr>\n",
       "    <tr>\n",
       "      <th>2</th>\n",
       "      <td>7003</td>\n",
       "      <td>1</td>\n",
       "    </tr>\n",
       "    <tr>\n",
       "      <th>3</th>\n",
       "      <td>7004</td>\n",
       "      <td>1</td>\n",
       "    </tr>\n",
       "    <tr>\n",
       "      <th>4</th>\n",
       "      <td>7005</td>\n",
       "      <td>1</td>\n",
       "    </tr>\n",
       "  </tbody>\n",
       "</table>\n",
       "</div>"
      ],
      "text/plain": [
       "   loan_id  loan_default\n",
       "0     7001             1\n",
       "1     7002             1\n",
       "2     7003             1\n",
       "3     7004             1\n",
       "4     7005             1"
      ]
     },
     "execution_count": 5,
     "metadata": {},
     "output_type": "execute_result"
    }
   ],
   "source": [
    "submission.head()"
   ]
  },
  {
   "cell_type": "code",
   "execution_count": 6,
   "id": "b2678cef",
   "metadata": {},
   "outputs": [
    {
     "data": {
      "text/plain": [
       "loan_id               int64\n",
       "age                   int64\n",
       "education           float64\n",
       "proof_submitted      object\n",
       "loan_amount           int64\n",
       "asset_cost            int64\n",
       "no_of_loans           int64\n",
       "no_of_curr_loans      int64\n",
       "last_delinq_none      int64\n",
       "loan_default          int64\n",
       "dtype: object"
      ]
     },
     "execution_count": 6,
     "metadata": {},
     "output_type": "execute_result"
    }
   ],
   "source": [
    "train.dtypes"
   ]
  },
  {
   "cell_type": "code",
   "execution_count": 7,
   "id": "5f621a66",
   "metadata": {},
   "outputs": [],
   "source": [
    "#education is of category type\n",
    "#proof submited is of category type"
   ]
  },
  {
   "cell_type": "code",
   "execution_count": 8,
   "id": "a10e3f7e",
   "metadata": {},
   "outputs": [
    {
     "data": {
      "text/plain": [
       "(loan_id               0\n",
       " age                   0\n",
       " education           245\n",
       " proof_submitted       0\n",
       " loan_amount           0\n",
       " asset_cost            0\n",
       " no_of_loans           0\n",
       " no_of_curr_loans      0\n",
       " last_delinq_none      0\n",
       " loan_default          0\n",
       " dtype: int64,\n",
       " loan_id              0\n",
       " age                  0\n",
       " education           92\n",
       " proof_submitted      0\n",
       " loan_amount          0\n",
       " asset_cost           0\n",
       " no_of_loans          0\n",
       " no_of_curr_loans     0\n",
       " last_delinq_none     0\n",
       " dtype: int64)"
      ]
     },
     "execution_count": 8,
     "metadata": {},
     "output_type": "execute_result"
    }
   ],
   "source": [
    "train.isnull().sum(),test.isnull().sum()"
   ]
  },
  {
   "cell_type": "code",
   "execution_count": 9,
   "id": "1f38ec34",
   "metadata": {},
   "outputs": [
    {
     "data": {
      "text/plain": [
       "2.0    3796\n",
       "1.0    2959\n",
       "Name: education, dtype: int64"
      ]
     },
     "execution_count": 9,
     "metadata": {},
     "output_type": "execute_result"
    }
   ],
   "source": [
    "train['education'].value_counts()"
   ]
  },
  {
   "cell_type": "code",
   "execution_count": 10,
   "id": "0ab56b18",
   "metadata": {},
   "outputs": [],
   "source": [
    "# we can impute missing value with mode value,i.e in this case 2.0"
   ]
  },
  {
   "cell_type": "code",
   "execution_count": 11,
   "id": "0be9d1b8",
   "metadata": {},
   "outputs": [],
   "source": [
    "train1=pd.DataFrame(train)\n",
    "test1=pd.DataFrame(test)"
   ]
  },
  {
   "cell_type": "code",
   "execution_count": 12,
   "id": "57697534",
   "metadata": {},
   "outputs": [],
   "source": [
    "train1['education']=train1['education'].fillna(2)\n",
    "test1['education']=test1['education'].fillna(2)"
   ]
  },
  {
   "cell_type": "markdown",
   "id": "2bd9d6b4",
   "metadata": {},
   "source": [
    "### Univariate Analysis"
   ]
  },
  {
   "cell_type": "markdown",
   "id": "101dae26",
   "metadata": {},
   "source": [
    "**AGE**"
   ]
  },
  {
   "cell_type": "code",
   "execution_count": 13,
   "id": "4e973ae3",
   "metadata": {},
   "outputs": [
    {
     "data": {
      "text/plain": [
       "<AxesSubplot:xlabel='age', ylabel='Density'>"
      ]
     },
     "execution_count": 13,
     "metadata": {},
     "output_type": "execute_result"
    },
    {
     "data": {
      "image/png": "[encoded data removed]",
      "text/plain": [
       "<Figure size 432x288 with 1 Axes>"
      ]
     },
     "metadata": {
      "needs_background": "light"
     },
     "output_type": "display_data"
    }
   ],
   "source": [
    "sns.kdeplot('age',data=train) #kdeplot for age columns"
   ]
  },
  {
   "cell_type": "code",
   "execution_count": 14,
   "id": "9071cdf4",
   "metadata": {},
   "outputs": [
    {
     "data": {
      "text/plain": [
       "count    7000.000000\n",
       "mean       36.096571\n",
       "std         7.587700\n",
       "min        21.000000\n",
       "25%        29.000000\n",
       "50%        36.000000\n",
       "75%        43.000000\n",
       "max        50.000000\n",
       "Name: age, dtype: float64"
      ]
     },
     "execution_count": 14,
     "metadata": {},
     "output_type": "execute_result"
    }
   ],
   "source": [
    "train['age'].describe()"
   ]
  },
  {
   "cell_type": "code",
   "execution_count": 15,
   "id": "a00f650c",
   "metadata": {},
   "outputs": [
    {
     "data": {
      "text/plain": [
       "count    3000.000000\n",
       "mean       36.111000\n",
       "std         7.467347\n",
       "min        21.000000\n",
       "25%        30.000000\n",
       "50%        36.000000\n",
       "75%        42.000000\n",
       "max        50.000000\n",
       "Name: age, dtype: float64"
      ]
     },
     "execution_count": 15,
     "metadata": {},
     "output_type": "execute_result"
    }
   ],
   "source": [
    "test['age'].describe()"
   ]
  },
  {
   "cell_type": "code",
   "execution_count": 16,
   "id": "9ae705ee",
   "metadata": {},
   "outputs": [],
   "source": [
    "#we can create bins from age column\n",
    "# we can divide age into young,middle age and seniors"
   ]
  },
  {
   "cell_type": "code",
   "execution_count": 17,
   "id": "581e48ad",
   "metadata": {},
   "outputs": [],
   "source": [
    "#creating bins roughly on the basis of equal frequency"
   ]
  },
  {
   "cell_type": "code",
   "execution_count": 18,
   "id": "32148562",
   "metadata": {},
   "outputs": [],
   "source": [
    "bins_age=[15,30,37,45,60]\n",
    "group_age=['young','midyoung','midsenior','senior']\n",
    "train1['age_category']=pd.cut(train1['age'], bins_age, labels=group_age)\n",
    "test1['age_category']=pd.cut(test1['age'],bins_age,labels=group_age)"
   ]
  },
  {
   "cell_type": "code",
   "execution_count": 19,
   "id": "d81394b5",
   "metadata": {},
   "outputs": [
    {
     "data": {
      "text/plain": [
       "<AxesSubplot:xlabel='age_category', ylabel='count'>"
      ]
     },
     "execution_count": 19,
     "metadata": {},
     "output_type": "execute_result"
    },
    {
     "data": {
      "image/png": "[encoded data removed]",
      "text/plain": [
       "<Figure size 432x288 with 1 Axes>"
      ]
     },
     "metadata": {
      "needs_background": "light"
     },
     "output_type": "display_data"
    }
   ],
   "source": [
    "sns.countplot(x='age_category',data=train1)"
   ]
  },
  {
   "cell_type": "markdown",
   "id": "ef2e013a",
   "metadata": {},
   "source": [
    "**LOAN AMOUNT**"
   ]
  },
  {
   "cell_type": "code",
   "execution_count": 20,
   "id": "fb1a1aa2",
   "metadata": {},
   "outputs": [
    {
     "data": {
      "text/plain": [
       "<AxesSubplot:xlabel='loan_amount', ylabel='Density'>"
      ]
     },
     "execution_count": 20,
     "metadata": {},
     "output_type": "execute_result"
    },
    {
     "data": {
      "image/png": "[encoded data removed]",
      "text/plain": [
       "<Figure size 432x288 with 1 Axes>"
      ]
     },
     "metadata": {
      "needs_background": "light"
     },
     "output_type": "display_data"
    }
   ],
   "source": [
    "sns.kdeplot('loan_amount',data=train)"
   ]
  },
  {
   "cell_type": "code",
   "execution_count": 21,
   "id": "b520f72f",
   "metadata": {},
   "outputs": [
    {
     "name": "stderr",
     "output_type": "stream",
     "text": [
      "C:\\python\\lib\\site-packages\\seaborn\\_decorators.py:36: FutureWarning: Pass the following variable as a keyword arg: x. From version 0.12, the only valid positional argument will be `data`, and passing other arguments without an explicit keyword will result in an error or misinterpretation.\n",
      "  warnings.warn(\n"
     ]
    },
    {
     "data": {
      "text/plain": [
       "<AxesSubplot:xlabel='loan_amount'>"
      ]
     },
     "execution_count": 21,
     "metadata": {},
     "output_type": "execute_result"
    },
    {
     "data": {
      "image/png": "[encoded data removed]",
      "text/plain": [
       "<Figure size 432x288 with 1 Axes>"
      ]
     },
     "metadata": {
      "needs_background": "light"
     },
     "output_type": "display_data"
    }
   ],
   "source": [
    "sns.boxplot('loan_amount',data=train)"
   ]
  },
  {
   "cell_type": "code",
   "execution_count": 22,
   "id": "d569b95b",
   "metadata": {},
   "outputs": [
    {
     "data": {
      "text/plain": [
       "count    7.000000e+03\n",
       "mean     6.633552e+05\n",
       "std      1.498128e+05\n",
       "min      1.678800e+05\n",
       "25%      5.777880e+05\n",
       "50%      6.571080e+05\n",
       "75%      7.373640e+05\n",
       "max      1.781376e+06\n",
       "Name: loan_amount, dtype: float64"
      ]
     },
     "execution_count": 22,
     "metadata": {},
     "output_type": "execute_result"
    }
   ],
   "source": [
    "train['loan_amount'].describe()"
   ]
  },
  {
   "cell_type": "code",
   "execution_count": 23,
   "id": "82bc2eb0",
   "metadata": {},
   "outputs": [],
   "source": [
    "bins_amount=[99000,550000,650000,750000,2000000]\n",
    "group_amount=['low','mid1','mid2','high']\n",
    "train1['loan_category']=pd.cut(train1['loan_amount'], bins_amount, labels=group_amount)\n",
    "test1['loan_category']=pd.cut(test1['loan_amount'],bins_amount,labels=group_amount)"
   ]
  },
  {
   "cell_type": "code",
   "execution_count": 24,
   "id": "6df82e4f",
   "metadata": {},
   "outputs": [
    {
     "data": {
      "text/plain": [
       "<AxesSubplot:xlabel='loan_category', ylabel='count'>"
      ]
     },
     "execution_count": 24,
     "metadata": {},
     "output_type": "execute_result"
    },
    {
     "data": {
      "image/png": "[encoded data removed]",
      "text/plain": [
       "<Figure size 432x288 with 1 Axes>"
      ]
     },
     "metadata": {
      "needs_background": "light"
     },
     "output_type": "display_data"
    }
   ],
   "source": [
    "sns.countplot(x='loan_category',data=train1)"
   ]
  },
  {
   "cell_type": "markdown",
   "id": "8a307aff",
   "metadata": {},
   "source": [
    "**Asset Cost**"
   ]
  },
  {
   "cell_type": "code",
   "execution_count": 25,
   "id": "ccfda302",
   "metadata": {},
   "outputs": [
    {
     "data": {
      "text/plain": [
       "<AxesSubplot:xlabel='asset_cost', ylabel='Density'>"
      ]
     },
     "execution_count": 25,
     "metadata": {},
     "output_type": "execute_result"
    },
    {
     "data": {
      "image/png": "[encoded data removed]",
      "text/plain": [
       "<Figure size 432x288 with 1 Axes>"
      ]
     },
     "metadata": {
      "needs_background": "light"
     },
     "output_type": "display_data"
    }
   ],
   "source": [
    "sns.kdeplot('asset_cost',data=train)"
   ]
  },
  {
   "cell_type": "code",
   "execution_count": 26,
   "id": "34704435",
   "metadata": {},
   "outputs": [
    {
     "name": "stderr",
     "output_type": "stream",
     "text": [
      "C:\\python\\lib\\site-packages\\seaborn\\_decorators.py:36: FutureWarning: Pass the following variable as a keyword arg: x. From version 0.12, the only valid positional argument will be `data`, and passing other arguments without an explicit keyword will result in an error or misinterpretation.\n",
      "  warnings.warn(\n"
     ]
    },
    {
     "data": {
      "text/plain": [
       "<AxesSubplot:xlabel='asset_cost'>"
      ]
     },
     "execution_count": 26,
     "metadata": {},
     "output_type": "execute_result"
    },
    {
     "data": {
      "image/png": "[encoded data removed]",
      "text/plain": [
       "<Figure size 432x288 with 1 Axes>"
      ]
     },
     "metadata": {
      "needs_background": "light"
     },
     "output_type": "display_data"
    }
   ],
   "source": [
    "sns.boxplot('asset_cost',data=train)"
   ]
  },
  {
   "cell_type": "code",
   "execution_count": 27,
   "id": "17cb05c8",
   "metadata": {},
   "outputs": [
    {
     "data": {
      "text/plain": [
       "count    7.000000e+03\n",
       "mean     9.162998e+05\n",
       "std      2.144922e+05\n",
       "min      4.733520e+05\n",
       "25%      7.979010e+05\n",
       "50%      8.584260e+05\n",
       "75%      9.576750e+05\n",
       "max      2.419200e+06\n",
       "Name: asset_cost, dtype: float64"
      ]
     },
     "execution_count": 27,
     "metadata": {},
     "output_type": "execute_result"
    }
   ],
   "source": [
    "train['asset_cost'].describe()"
   ]
  },
  {
   "cell_type": "code",
   "execution_count": 28,
   "id": "243b8684",
   "metadata": {},
   "outputs": [],
   "source": [
    "bins_asset=[400000,800000,900000,1200000,2500000]\n",
    "group_asset=['M1','M2','H1','H2']\n",
    "train1['asset_category']=pd.cut(train1['asset_cost'], bins_asset, labels=group_asset)\n",
    "test1['asset_category']=pd.cut(test1['asset_cost'],bins_asset,labels=group_asset)"
   ]
  },
  {
   "cell_type": "code",
   "execution_count": 29,
   "id": "10d653d3",
   "metadata": {},
   "outputs": [
    {
     "data": {
      "text/plain": [
       "<AxesSubplot:xlabel='asset_category', ylabel='count'>"
      ]
     },
     "execution_count": 29,
     "metadata": {},
     "output_type": "execute_result"
    },
    {
     "data": {
      "image/png": "[encoded data removed]",
      "text/plain": [
       "<Figure size 432x288 with 1 Axes>"
      ]
     },
     "metadata": {
      "needs_background": "light"
     },
     "output_type": "display_data"
    }
   ],
   "source": [
    "sns.countplot(x='asset_category',data=train1)"
   ]
  },
  {
   "cell_type": "markdown",
   "id": "e9f7bbd2",
   "metadata": {},
   "source": [
    "**Education**"
   ]
  },
  {
   "cell_type": "code",
   "execution_count": 30,
   "id": "892270ba",
   "metadata": {},
   "outputs": [
    {
     "data": {
      "text/plain": [
       "<AxesSubplot:xlabel='education', ylabel='education'>"
      ]
     },
     "execution_count": 30,
     "metadata": {},
     "output_type": "execute_result"
    },
    {
     "data": {
      "image/png": "[encoded data removed]",
      "text/plain": [
       "<Figure size 432x288 with 1 Axes>"
      ]
     },
     "metadata": {
      "needs_background": "light"
     },
     "output_type": "display_data"
    }
   ],
   "source": [
    "sns.barplot(x=train1['education'],y=train1['education'].value_counts())"
   ]
  },
  {
   "cell_type": "code",
   "execution_count": 31,
   "id": "c2097e0c",
   "metadata": {},
   "outputs": [],
   "source": [
    "train1['education']=train1['education'].astype('int')"
   ]
  },
  {
   "cell_type": "markdown",
   "id": "08bfe611",
   "metadata": {},
   "source": [
    "**Proof Submitted**"
   ]
  },
  {
   "cell_type": "code",
   "execution_count": 32,
   "id": "77ce8682",
   "metadata": {},
   "outputs": [
    {
     "data": {
      "text/plain": [
       "<AxesSubplot:ylabel='proof_submitted'>"
      ]
     },
     "execution_count": 32,
     "metadata": {},
     "output_type": "execute_result"
    },
    {
     "data": {
      "image/png": "[encoded data removed]",
      "text/plain": [
       "<Figure size 432x288 with 1 Axes>"
      ]
     },
     "metadata": {
      "needs_background": "light"
     },
     "output_type": "display_data"
    }
   ],
   "source": [
    "sns.barplot(x=train1['proof_submitted'].value_counts().index,y=train1['proof_submitted'].value_counts())"
   ]
  },
  {
   "cell_type": "code",
   "execution_count": 33,
   "id": "e6af51a1",
   "metadata": {},
   "outputs": [
    {
     "data": {
      "text/plain": [
       "Aadhar      5931\n",
       "VoterID      707\n",
       "PAN          235\n",
       "Driving      114\n",
       "Passport      13\n",
       "Name: proof_submitted, dtype: int64"
      ]
     },
     "execution_count": 33,
     "metadata": {},
     "output_type": "execute_result"
    }
   ],
   "source": [
    "train1['proof_submitted'].value_counts()"
   ]
  },
  {
   "cell_type": "code",
   "execution_count": 34,
   "id": "1b384edb",
   "metadata": {},
   "outputs": [],
   "source": [
    "#null hypothesis:- generally, passport,pan is considered safest and is accepted as ID Proof .\n",
    "#VoterID and Driving licence are not always preferred and may result into fraud"
   ]
  },
  {
   "cell_type": "code",
   "execution_count": 35,
   "id": "a55fd500",
   "metadata": {},
   "outputs": [],
   "source": [
    "#since, this feature is highly skewed we can use 2 strategies:-\n",
    "#    1)remove the feature itself\n",
    " #   2)encode it with target encoding"
   ]
  },
  {
   "cell_type": "markdown",
   "id": "20ffa8d8",
   "metadata": {},
   "source": [
    "**Number of Loans**"
   ]
  },
  {
   "cell_type": "code",
   "execution_count": 36,
   "id": "dc071e6e",
   "metadata": {},
   "outputs": [
    {
     "data": {
      "text/plain": [
       "<AxesSubplot:xlabel='no_of_loans', ylabel='count'>"
      ]
     },
     "execution_count": 36,
     "metadata": {},
     "output_type": "execute_result"
    },
    {
     "data": {
      "image/png": "[encoded data removed]",
      "text/plain": [
       "<Figure size 432x288 with 1 Axes>"
      ]
     },
     "metadata": {
      "needs_background": "light"
     },
     "output_type": "display_data"
    }
   ],
   "source": [
    "sns.countplot(x='no_of_loans',data=train1)"
   ]
  },
  {
   "cell_type": "code",
   "execution_count": 37,
   "id": "c658e205",
   "metadata": {},
   "outputs": [
    {
     "data": {
      "text/plain": [
       "count    7000.000000\n",
       "mean        2.853286\n",
       "std         5.471932\n",
       "min         0.000000\n",
       "25%         0.000000\n",
       "50%         0.000000\n",
       "75%         3.000000\n",
       "max       109.000000\n",
       "Name: no_of_loans, dtype: float64"
      ]
     },
     "execution_count": 37,
     "metadata": {},
     "output_type": "execute_result"
    }
   ],
   "source": [
    "train1['no_of_loans'].describe()"
   ]
  },
  {
   "cell_type": "code",
   "execution_count": 38,
   "id": "1de88804",
   "metadata": {},
   "outputs": [],
   "source": [
    "bins_nol=[-1,1,200]\n",
    "group_nol=[0,1]\n",
    "train1['numloan_category']=pd.cut(train1['no_of_loans'], bins_nol, labels=group_nol)\n",
    "test1['numloan_category']=pd.cut(test1['no_of_loans'],bins_nol,labels=group_nol)"
   ]
  },
  {
   "cell_type": "code",
   "execution_count": 39,
   "id": "cda66074",
   "metadata": {},
   "outputs": [
    {
     "data": {
      "text/plain": [
       "<AxesSubplot:ylabel='numloan_category'>"
      ]
     },
     "execution_count": 39,
     "metadata": {},
     "output_type": "execute_result"
    },
    {
     "data": {
      "image/png": "[encoded data removed]",
      "text/plain": [
       "<Figure size 432x288 with 1 Axes>"
      ]
     },
     "metadata": {
      "needs_background": "light"
     },
     "output_type": "display_data"
    }
   ],
   "source": [
    "sns.barplot(x=train1['numloan_category'].value_counts().index,y=train1['numloan_category'].value_counts())"
   ]
  },
  {
   "cell_type": "markdown",
   "id": "adcc0ede",
   "metadata": {},
   "source": [
    "**Number of current loans**"
   ]
  },
  {
   "cell_type": "code",
   "execution_count": 40,
   "id": "d8859534",
   "metadata": {},
   "outputs": [
    {
     "data": {
      "text/plain": [
       "<AxesSubplot:xlabel='no_of_curr_loans', ylabel='count'>"
      ]
     },
     "execution_count": 40,
     "metadata": {},
     "output_type": "execute_result"
    },
    {
     "data": {
      "image/png": "[encoded data removed]",
      "text/plain": [
       "<Figure size 432x288 with 1 Axes>"
      ]
     },
     "metadata": {
      "needs_background": "light"
     },
     "output_type": "display_data"
    }
   ],
   "source": [
    "sns.countplot(x='no_of_curr_loans',data=train1)"
   ]
  },
  {
   "cell_type": "code",
   "execution_count": 41,
   "id": "38ab6c1f",
   "metadata": {},
   "outputs": [
    {
     "data": {
      "text/plain": [
       "count    7000.000000\n",
       "mean        1.371143\n",
       "std         2.189278\n",
       "min         0.000000\n",
       "25%         0.000000\n",
       "50%         0.000000\n",
       "75%         2.000000\n",
       "max        33.000000\n",
       "Name: no_of_curr_loans, dtype: float64"
      ]
     },
     "execution_count": 41,
     "metadata": {},
     "output_type": "execute_result"
    }
   ],
   "source": [
    "train1['no_of_curr_loans'].describe()"
   ]
  },
  {
   "cell_type": "code",
   "execution_count": 42,
   "id": "81eaa93a",
   "metadata": {},
   "outputs": [],
   "source": [
    "bins_ncl=[-1,1,200]\n",
    "group_ncl=[0,1]\n",
    "train1['currloan_category']=pd.cut(train1['no_of_curr_loans'], bins_ncl, labels=group_ncl)\n",
    "test1['currloan_category']=pd.cut(test1['no_of_curr_loans'],bins_ncl,labels=group_ncl)"
   ]
  },
  {
   "cell_type": "code",
   "execution_count": 43,
   "id": "3838358a",
   "metadata": {},
   "outputs": [
    {
     "data": {
      "text/plain": [
       "<AxesSubplot:ylabel='currloan_category'>"
      ]
     },
     "execution_count": 43,
     "metadata": {},
     "output_type": "execute_result"
    },
    {
     "data": {
      "image/png": "[encoded data removed]",
      "text/plain": [
       "<Figure size 432x288 with 1 Axes>"
      ]
     },
     "metadata": {
      "needs_background": "light"
     },
     "output_type": "display_data"
    }
   ],
   "source": [
    "sns.barplot(x=train1['currloan_category'].value_counts().index,y=train1['currloan_category'].value_counts())"
   ]
  },
  {
   "cell_type": "markdown",
   "id": "3980de84",
   "metadata": {},
   "source": [
    "**Last Delinq None**"
   ]
  },
  {
   "cell_type": "code",
   "execution_count": 44,
   "id": "3d61f415",
   "metadata": {},
   "outputs": [
    {
     "data": {
      "text/plain": [
       "<AxesSubplot:xlabel='last_delinq_none', ylabel='count'>"
      ]
     },
     "execution_count": 44,
     "metadata": {},
     "output_type": "execute_result"
    },
    {
     "data": {
      "image/png": "[encoded data removed]",
      "text/plain": [
       "<Figure size 432x288 with 1 Axes>"
      ]
     },
     "metadata": {
      "needs_background": "light"
     },
     "output_type": "display_data"
    }
   ],
   "source": [
    "sns.countplot(x='last_delinq_none',data=train1)"
   ]
  },
  {
   "cell_type": "code",
   "execution_count": 45,
   "id": "f154f0de",
   "metadata": {},
   "outputs": [
    {
     "data": {
      "text/plain": [
       "0    6907\n",
       "1      93\n",
       "Name: last_delinq_none, dtype: int64"
      ]
     },
     "execution_count": 45,
     "metadata": {},
     "output_type": "execute_result"
    }
   ],
   "source": [
    "train1['last_delinq_none'].value_counts()"
   ]
  },
  {
   "cell_type": "markdown",
   "id": "392a7fcf",
   "metadata": {},
   "source": [
    "**loan_default**"
   ]
  },
  {
   "cell_type": "code",
   "execution_count": 46,
   "id": "50d39307",
   "metadata": {},
   "outputs": [
    {
     "data": {
      "text/plain": [
       "<AxesSubplot:xlabel='loan_default', ylabel='count'>"
      ]
     },
     "execution_count": 46,
     "metadata": {},
     "output_type": "execute_result"
    },
    {
     "data": {
      "image/png": "[encoded data removed]",
      "text/plain": [
       "<Figure size 432x288 with 1 Axes>"
      ]
     },
     "metadata": {
      "needs_background": "light"
     },
     "output_type": "display_data"
    }
   ],
   "source": [
    "sns.countplot(x='loan_default',data=train1)"
   ]
  },
  {
   "cell_type": "code",
   "execution_count": 47,
   "id": "1552b724",
   "metadata": {},
   "outputs": [
    {
     "data": {
      "text/html": [
       "<div>\n",
       "<style scoped>\n",
       "    .dataframe tbody tr th:only-of-type {\n",
       "        vertical-align: middle;\n",
       "    }\n",
       "\n",
       "    .dataframe tbody tr th {\n",
       "        vertical-align: top;\n",
       "    }\n",
       "\n",
       "    .dataframe thead th {\n",
       "        text-align: right;\n",
       "    }\n",
       "</style>\n",
       "<table border=\"1\" class=\"dataframe\">\n",
       "  <thead>\n",
       "    <tr style=\"text-align: right;\">\n",
       "      <th></th>\n",
       "      <th>loan_id</th>\n",
       "      <th>age</th>\n",
       "      <th>education</th>\n",
       "      <th>proof_submitted</th>\n",
       "      <th>loan_amount</th>\n",
       "      <th>asset_cost</th>\n",
       "      <th>no_of_loans</th>\n",
       "      <th>no_of_curr_loans</th>\n",
       "      <th>last_delinq_none</th>\n",
       "      <th>loan_default</th>\n",
       "      <th>age_category</th>\n",
       "      <th>loan_category</th>\n",
       "      <th>asset_category</th>\n",
       "      <th>numloan_category</th>\n",
       "      <th>currloan_category</th>\n",
       "    </tr>\n",
       "  </thead>\n",
       "  <tbody>\n",
       "    <tr>\n",
       "      <th>0</th>\n",
       "      <td>1</td>\n",
       "      <td>27</td>\n",
       "      <td>1</td>\n",
       "      <td>Aadhar</td>\n",
       "      <td>504264</td>\n",
       "      <td>820920</td>\n",
       "      <td>2</td>\n",
       "      <td>2</td>\n",
       "      <td>0</td>\n",
       "      <td>0</td>\n",
       "      <td>young</td>\n",
       "      <td>low</td>\n",
       "      <td>M2</td>\n",
       "      <td>1</td>\n",
       "      <td>1</td>\n",
       "    </tr>\n",
       "    <tr>\n",
       "      <th>1</th>\n",
       "      <td>2</td>\n",
       "      <td>48</td>\n",
       "      <td>1</td>\n",
       "      <td>Aadhar</td>\n",
       "      <td>728556</td>\n",
       "      <td>831444</td>\n",
       "      <td>6</td>\n",
       "      <td>2</td>\n",
       "      <td>0</td>\n",
       "      <td>0</td>\n",
       "      <td>senior</td>\n",
       "      <td>mid2</td>\n",
       "      <td>M2</td>\n",
       "      <td>1</td>\n",
       "      <td>1</td>\n",
       "    </tr>\n",
       "    <tr>\n",
       "      <th>2</th>\n",
       "      <td>3</td>\n",
       "      <td>30</td>\n",
       "      <td>2</td>\n",
       "      <td>VoterID</td>\n",
       "      <td>642936</td>\n",
       "      <td>826092</td>\n",
       "      <td>0</td>\n",
       "      <td>0</td>\n",
       "      <td>0</td>\n",
       "      <td>1</td>\n",
       "      <td>young</td>\n",
       "      <td>mid1</td>\n",
       "      <td>M2</td>\n",
       "      <td>0</td>\n",
       "      <td>0</td>\n",
       "    </tr>\n",
       "    <tr>\n",
       "      <th>3</th>\n",
       "      <td>4</td>\n",
       "      <td>28</td>\n",
       "      <td>1</td>\n",
       "      <td>Aadhar</td>\n",
       "      <td>746556</td>\n",
       "      <td>930924</td>\n",
       "      <td>0</td>\n",
       "      <td>0</td>\n",
       "      <td>0</td>\n",
       "      <td>0</td>\n",
       "      <td>young</td>\n",
       "      <td>mid2</td>\n",
       "      <td>H1</td>\n",
       "      <td>0</td>\n",
       "      <td>0</td>\n",
       "    </tr>\n",
       "    <tr>\n",
       "      <th>4</th>\n",
       "      <td>5</td>\n",
       "      <td>29</td>\n",
       "      <td>1</td>\n",
       "      <td>Aadhar</td>\n",
       "      <td>1139880</td>\n",
       "      <td>1902000</td>\n",
       "      <td>0</td>\n",
       "      <td>0</td>\n",
       "      <td>0</td>\n",
       "      <td>0</td>\n",
       "      <td>young</td>\n",
       "      <td>high</td>\n",
       "      <td>H2</td>\n",
       "      <td>0</td>\n",
       "      <td>0</td>\n",
       "    </tr>\n",
       "  </tbody>\n",
       "</table>\n",
       "</div>"
      ],
      "text/plain": [
       "   loan_id  age  education proof_submitted  loan_amount  asset_cost  \\\n",
       "0        1   27          1          Aadhar       504264      820920   \n",
       "1        2   48          1          Aadhar       728556      831444   \n",
       "2        3   30          2         VoterID       642936      826092   \n",
       "3        4   28          1          Aadhar       746556      930924   \n",
       "4        5   29          1          Aadhar      1139880     1902000   \n",
       "\n",
       "   no_of_loans  no_of_curr_loans  last_delinq_none  loan_default age_category  \\\n",
       "0            2                 2                 0             0        young   \n",
       "1            6                 2                 0             0       senior   \n",
       "2            0                 0                 0             1        young   \n",
       "3            0                 0                 0             0        young   \n",
       "4            0                 0                 0             0        young   \n",
       "\n",
       "  loan_category asset_category numloan_category currloan_category  \n",
       "0           low             M2                1                 1  \n",
       "1          mid2             M2                1                 1  \n",
       "2          mid1             M2                0                 0  \n",
       "3          mid2             H1                0                 0  \n",
       "4          high             H2                0                 0  "
      ]
     },
     "execution_count": 47,
     "metadata": {},
     "output_type": "execute_result"
    }
   ],
   "source": [
    "train1.head()"
   ]
  },
  {
   "cell_type": "code",
   "execution_count": 48,
   "id": "229d0807",
   "metadata": {},
   "outputs": [
    {
     "data": {
      "text/html": [
       "<div>\n",
       "<style scoped>\n",
       "    .dataframe tbody tr th:only-of-type {\n",
       "        vertical-align: middle;\n",
       "    }\n",
       "\n",
       "    .dataframe tbody tr th {\n",
       "        vertical-align: top;\n",
       "    }\n",
       "\n",
       "    .dataframe thead th {\n",
       "        text-align: right;\n",
       "    }\n",
       "</style>\n",
       "<table border=\"1\" class=\"dataframe\">\n",
       "  <thead>\n",
       "    <tr style=\"text-align: right;\">\n",
       "      <th></th>\n",
       "      <th>loan_id</th>\n",
       "      <th>age</th>\n",
       "      <th>education</th>\n",
       "      <th>proof_submitted</th>\n",
       "      <th>loan_amount</th>\n",
       "      <th>asset_cost</th>\n",
       "      <th>no_of_loans</th>\n",
       "      <th>no_of_curr_loans</th>\n",
       "      <th>last_delinq_none</th>\n",
       "      <th>age_category</th>\n",
       "      <th>loan_category</th>\n",
       "      <th>asset_category</th>\n",
       "      <th>numloan_category</th>\n",
       "      <th>currloan_category</th>\n",
       "    </tr>\n",
       "  </thead>\n",
       "  <tbody>\n",
       "    <tr>\n",
       "      <th>0</th>\n",
       "      <td>7001</td>\n",
       "      <td>29</td>\n",
       "      <td>1.0</td>\n",
       "      <td>Aadhar</td>\n",
       "      <td>636936</td>\n",
       "      <td>768240</td>\n",
       "      <td>2</td>\n",
       "      <td>2</td>\n",
       "      <td>0</td>\n",
       "      <td>young</td>\n",
       "      <td>mid1</td>\n",
       "      <td>M1</td>\n",
       "      <td>1</td>\n",
       "      <td>1</td>\n",
       "    </tr>\n",
       "    <tr>\n",
       "      <th>1</th>\n",
       "      <td>7002</td>\n",
       "      <td>28</td>\n",
       "      <td>1.0</td>\n",
       "      <td>Aadhar</td>\n",
       "      <td>548988</td>\n",
       "      <td>693060</td>\n",
       "      <td>3</td>\n",
       "      <td>3</td>\n",
       "      <td>0</td>\n",
       "      <td>young</td>\n",
       "      <td>low</td>\n",
       "      <td>M1</td>\n",
       "      <td>1</td>\n",
       "      <td>1</td>\n",
       "    </tr>\n",
       "    <tr>\n",
       "      <th>2</th>\n",
       "      <td>7003</td>\n",
       "      <td>28</td>\n",
       "      <td>1.0</td>\n",
       "      <td>Aadhar</td>\n",
       "      <td>651756</td>\n",
       "      <td>936600</td>\n",
       "      <td>0</td>\n",
       "      <td>0</td>\n",
       "      <td>0</td>\n",
       "      <td>young</td>\n",
       "      <td>mid2</td>\n",
       "      <td>H1</td>\n",
       "      <td>0</td>\n",
       "      <td>0</td>\n",
       "    </tr>\n",
       "    <tr>\n",
       "      <th>3</th>\n",
       "      <td>7004</td>\n",
       "      <td>45</td>\n",
       "      <td>2.0</td>\n",
       "      <td>Aadhar</td>\n",
       "      <td>614676</td>\n",
       "      <td>744840</td>\n",
       "      <td>4</td>\n",
       "      <td>3</td>\n",
       "      <td>0</td>\n",
       "      <td>midsenior</td>\n",
       "      <td>mid1</td>\n",
       "      <td>M1</td>\n",
       "      <td>1</td>\n",
       "      <td>1</td>\n",
       "    </tr>\n",
       "    <tr>\n",
       "      <th>4</th>\n",
       "      <td>7005</td>\n",
       "      <td>48</td>\n",
       "      <td>1.0</td>\n",
       "      <td>Aadhar</td>\n",
       "      <td>625236</td>\n",
       "      <td>839400</td>\n",
       "      <td>0</td>\n",
       "      <td>0</td>\n",
       "      <td>0</td>\n",
       "      <td>senior</td>\n",
       "      <td>mid1</td>\n",
       "      <td>M2</td>\n",
       "      <td>0</td>\n",
       "      <td>0</td>\n",
       "    </tr>\n",
       "  </tbody>\n",
       "</table>\n",
       "</div>"
      ],
      "text/plain": [
       "   loan_id  age  education proof_submitted  loan_amount  asset_cost  \\\n",
       "0     7001   29        1.0          Aadhar       636936      768240   \n",
       "1     7002   28        1.0          Aadhar       548988      693060   \n",
       "2     7003   28        1.0          Aadhar       651756      936600   \n",
       "3     7004   45        2.0          Aadhar       614676      744840   \n",
       "4     7005   48        1.0          Aadhar       625236      839400   \n",
       "\n",
       "   no_of_loans  no_of_curr_loans  last_delinq_none age_category loan_category  \\\n",
       "0            2                 2                 0        young          mid1   \n",
       "1            3                 3                 0        young           low   \n",
       "2            0                 0                 0        young          mid2   \n",
       "3            4                 3                 0    midsenior          mid1   \n",
       "4            0                 0                 0       senior          mid1   \n",
       "\n",
       "  asset_category numloan_category currloan_category  \n",
       "0             M1                1                 1  \n",
       "1             M1                1                 1  \n",
       "2             H1                0                 0  \n",
       "3             M1                1                 1  \n",
       "4             M2                0                 0  "
      ]
     },
     "execution_count": 48,
     "metadata": {},
     "output_type": "execute_result"
    }
   ],
   "source": [
    "test1.head()"
   ]
  },
  {
   "cell_type": "code",
   "execution_count": 49,
   "id": "477c4264",
   "metadata": {},
   "outputs": [],
   "source": [
    "train2=pd.DataFrame(train1)"
   ]
  },
  {
   "cell_type": "code",
   "execution_count": 50,
   "id": "76ab6a3b",
   "metadata": {},
   "outputs": [],
   "source": [
    "test2=pd.DataFrame(test1)"
   ]
  },
  {
   "cell_type": "code",
   "execution_count": 51,
   "id": "693a457a",
   "metadata": {},
   "outputs": [],
   "source": [
    "train2=train2.drop('proof_submitted',axis=1)"
   ]
  },
  {
   "cell_type": "code",
   "execution_count": 52,
   "id": "665b6388",
   "metadata": {},
   "outputs": [],
   "source": [
    "test2=test2.drop('proof_submitted',axis=1)"
   ]
  },
  {
   "cell_type": "code",
   "execution_count": 53,
   "id": "fa45c1bf",
   "metadata": {},
   "outputs": [],
   "source": [
    "train2['numloan_category']=train2['numloan_category'].astype('int')"
   ]
  },
  {
   "cell_type": "code",
   "execution_count": 54,
   "id": "3ca5d479",
   "metadata": {},
   "outputs": [],
   "source": [
    "train2['currloan_category']=train2['currloan_category'].astype('int')"
   ]
  },
  {
   "cell_type": "code",
   "execution_count": 55,
   "id": "57cb090d",
   "metadata": {},
   "outputs": [],
   "source": [
    "test2['numloan_category']=test2['numloan_category'].astype('int')\n",
    "test2['currloan_category']=test2['currloan_category'].astype('int')"
   ]
  },
  {
   "cell_type": "code",
   "execution_count": 56,
   "id": "19726ee1",
   "metadata": {},
   "outputs": [],
   "source": [
    "from sklearn.preprocessing import OneHotEncoder"
   ]
  },
  {
   "cell_type": "code",
   "execution_count": 57,
   "id": "fc87d6af",
   "metadata": {},
   "outputs": [],
   "source": [
    "train2=train2.drop('loan_id',axis=1)"
   ]
  },
  {
   "cell_type": "code",
   "execution_count": 58,
   "id": "5001fcb9",
   "metadata": {},
   "outputs": [],
   "source": [
    "test2=test2.drop('loan_id',axis=1)"
   ]
  },
  {
   "cell_type": "code",
   "execution_count": 59,
   "id": "05624b05",
   "metadata": {},
   "outputs": [],
   "source": [
    "train2=pd.get_dummies(train2)"
   ]
  },
  {
   "cell_type": "code",
   "execution_count": 60,
   "id": "5cad8cc9",
   "metadata": {},
   "outputs": [],
   "source": [
    "test2=pd.get_dummies(test2)"
   ]
  },
  {
   "cell_type": "code",
   "execution_count": 61,
   "id": "5a7dce78",
   "metadata": {},
   "outputs": [
    {
     "data": {
      "text/html": [
       "<div>\n",
       "<style scoped>\n",
       "    .dataframe tbody tr th:only-of-type {\n",
       "        vertical-align: middle;\n",
       "    }\n",
       "\n",
       "    .dataframe tbody tr th {\n",
       "        vertical-align: top;\n",
       "    }\n",
       "\n",
       "    .dataframe thead th {\n",
       "        text-align: right;\n",
       "    }\n",
       "</style>\n",
       "<table border=\"1\" class=\"dataframe\">\n",
       "  <thead>\n",
       "    <tr style=\"text-align: right;\">\n",
       "      <th></th>\n",
       "      <th>age</th>\n",
       "      <th>education</th>\n",
       "      <th>loan_amount</th>\n",
       "      <th>asset_cost</th>\n",
       "      <th>no_of_loans</th>\n",
       "      <th>no_of_curr_loans</th>\n",
       "      <th>last_delinq_none</th>\n",
       "      <th>loan_default</th>\n",
       "      <th>numloan_category</th>\n",
       "      <th>currloan_category</th>\n",
       "      <th>...</th>\n",
       "      <th>age_category_midsenior</th>\n",
       "      <th>age_category_senior</th>\n",
       "      <th>loan_category_low</th>\n",
       "      <th>loan_category_mid1</th>\n",
       "      <th>loan_category_mid2</th>\n",
       "      <th>loan_category_high</th>\n",
       "      <th>asset_category_M1</th>\n",
       "      <th>asset_category_M2</th>\n",
       "      <th>asset_category_H1</th>\n",
       "      <th>asset_category_H2</th>\n",
       "    </tr>\n",
       "  </thead>\n",
       "  <tbody>\n",
       "    <tr>\n",
       "      <th>0</th>\n",
       "      <td>27</td>\n",
       "      <td>1</td>\n",
       "      <td>504264</td>\n",
       "      <td>820920</td>\n",
       "      <td>2</td>\n",
       "      <td>2</td>\n",
       "      <td>0</td>\n",
       "      <td>0</td>\n",
       "      <td>1</td>\n",
       "      <td>1</td>\n",
       "      <td>...</td>\n",
       "      <td>0</td>\n",
       "      <td>0</td>\n",
       "      <td>1</td>\n",
       "      <td>0</td>\n",
       "      <td>0</td>\n",
       "      <td>0</td>\n",
       "      <td>0</td>\n",
       "      <td>1</td>\n",
       "      <td>0</td>\n",
       "      <td>0</td>\n",
       "    </tr>\n",
       "    <tr>\n",
       "      <th>1</th>\n",
       "      <td>48</td>\n",
       "      <td>1</td>\n",
       "      <td>728556</td>\n",
       "      <td>831444</td>\n",
       "      <td>6</td>\n",
       "      <td>2</td>\n",
       "      <td>0</td>\n",
       "      <td>0</td>\n",
       "      <td>1</td>\n",
       "      <td>1</td>\n",
       "      <td>...</td>\n",
       "      <td>0</td>\n",
       "      <td>1</td>\n",
       "      <td>0</td>\n",
       "      <td>0</td>\n",
       "      <td>1</td>\n",
       "      <td>0</td>\n",
       "      <td>0</td>\n",
       "      <td>1</td>\n",
       "      <td>0</td>\n",
       "      <td>0</td>\n",
       "    </tr>\n",
       "    <tr>\n",
       "      <th>2</th>\n",
       "      <td>30</td>\n",
       "      <td>2</td>\n",
       "      <td>642936</td>\n",
       "      <td>826092</td>\n",
       "      <td>0</td>\n",
       "      <td>0</td>\n",
       "      <td>0</td>\n",
       "      <td>1</td>\n",
       "      <td>0</td>\n",
       "      <td>0</td>\n",
       "      <td>...</td>\n",
       "      <td>0</td>\n",
       "      <td>0</td>\n",
       "      <td>0</td>\n",
       "      <td>1</td>\n",
       "      <td>0</td>\n",
       "      <td>0</td>\n",
       "      <td>0</td>\n",
       "      <td>1</td>\n",
       "      <td>0</td>\n",
       "      <td>0</td>\n",
       "    </tr>\n",
       "    <tr>\n",
       "      <th>3</th>\n",
       "      <td>28</td>\n",
       "      <td>1</td>\n",
       "      <td>746556</td>\n",
       "      <td>930924</td>\n",
       "      <td>0</td>\n",
       "      <td>0</td>\n",
       "      <td>0</td>\n",
       "      <td>0</td>\n",
       "      <td>0</td>\n",
       "      <td>0</td>\n",
       "      <td>...</td>\n",
       "      <td>0</td>\n",
       "      <td>0</td>\n",
       "      <td>0</td>\n",
       "      <td>0</td>\n",
       "      <td>1</td>\n",
       "      <td>0</td>\n",
       "      <td>0</td>\n",
       "      <td>0</td>\n",
       "      <td>1</td>\n",
       "      <td>0</td>\n",
       "    </tr>\n",
       "    <tr>\n",
       "      <th>4</th>\n",
       "      <td>29</td>\n",
       "      <td>1</td>\n",
       "      <td>1139880</td>\n",
       "      <td>1902000</td>\n",
       "      <td>0</td>\n",
       "      <td>0</td>\n",
       "      <td>0</td>\n",
       "      <td>0</td>\n",
       "      <td>0</td>\n",
       "      <td>0</td>\n",
       "      <td>...</td>\n",
       "      <td>0</td>\n",
       "      <td>0</td>\n",
       "      <td>0</td>\n",
       "      <td>0</td>\n",
       "      <td>0</td>\n",
       "      <td>1</td>\n",
       "      <td>0</td>\n",
       "      <td>0</td>\n",
       "      <td>0</td>\n",
       "      <td>1</td>\n",
       "    </tr>\n",
       "  </tbody>\n",
       "</table>\n",
       "<p>5 rows × 22 columns</p>\n",
       "</div>"
      ],
      "text/plain": [
       "   age  education  loan_amount  asset_cost  no_of_loans  no_of_curr_loans  \\\n",
       "0   27          1       504264      820920            2                 2   \n",
       "1   48          1       728556      831444            6                 2   \n",
       "2   30          2       642936      826092            0                 0   \n",
       "3   28          1       746556      930924            0                 0   \n",
       "4   29          1      1139880     1902000            0                 0   \n",
       "\n",
       "   last_delinq_none  loan_default  numloan_category  currloan_category  ...  \\\n",
       "0                 0             0                 1                  1  ...   \n",
       "1                 0             0                 1                  1  ...   \n",
       "2                 0             1                 0                  0  ...   \n",
       "3                 0             0                 0                  0  ...   \n",
       "4                 0             0                 0                  0  ...   \n",
       "\n",
       "   age_category_midsenior  age_category_senior  loan_category_low  \\\n",
       "0                       0                    0                  1   \n",
       "1                       0                    1                  0   \n",
       "2                       0                    0                  0   \n",
       "3                       0                    0                  0   \n",
       "4                       0                    0                  0   \n",
       "\n",
       "   loan_category_mid1  loan_category_mid2  loan_category_high  \\\n",
       "0                   0                   0                   0   \n",
       "1                   0                   1                   0   \n",
       "2                   1                   0                   0   \n",
       "3                   0                   1                   0   \n",
       "4                   0                   0                   1   \n",
       "\n",
       "   asset_category_M1  asset_category_M2  asset_category_H1  asset_category_H2  \n",
       "0                  0                  1                  0                  0  \n",
       "1                  0                  1                  0                  0  \n",
       "2                  0                  1                  0                  0  \n",
       "3                  0                  0                  1                  0  \n",
       "4                  0                  0                  0                  1  \n",
       "\n",
       "[5 rows x 22 columns]"
      ]
     },
     "execution_count": 61,
     "metadata": {},
     "output_type": "execute_result"
    }
   ],
   "source": [
    "train2.head()"
   ]
  },
  {
   "cell_type": "markdown",
   "id": "c00434f8",
   "metadata": {},
   "source": [
    "### Bivariate Analysis"
   ]
  },
  {
   "cell_type": "markdown",
   "id": "ec0cc283",
   "metadata": {},
   "source": [
    "**Correlation**"
   ]
  },
  {
   "cell_type": "code",
   "execution_count": 62,
   "id": "b1a8436b",
   "metadata": {},
   "outputs": [
    {
     "data": {
      "text/html": [
       "<div>\n",
       "<style scoped>\n",
       "    .dataframe tbody tr th:only-of-type {\n",
       "        vertical-align: middle;\n",
       "    }\n",
       "\n",
       "    .dataframe tbody tr th {\n",
       "        vertical-align: top;\n",
       "    }\n",
       "\n",
       "    .dataframe thead th {\n",
       "        text-align: right;\n",
       "    }\n",
       "</style>\n",
       "<table border=\"1\" class=\"dataframe\">\n",
       "  <thead>\n",
       "    <tr style=\"text-align: right;\">\n",
       "      <th></th>\n",
       "      <th>age</th>\n",
       "      <th>education</th>\n",
       "      <th>loan_amount</th>\n",
       "      <th>asset_cost</th>\n",
       "      <th>no_of_loans</th>\n",
       "      <th>no_of_curr_loans</th>\n",
       "      <th>last_delinq_none</th>\n",
       "      <th>loan_default</th>\n",
       "      <th>numloan_category</th>\n",
       "      <th>currloan_category</th>\n",
       "      <th>...</th>\n",
       "      <th>age_category_midsenior</th>\n",
       "      <th>age_category_senior</th>\n",
       "      <th>loan_category_low</th>\n",
       "      <th>loan_category_mid1</th>\n",
       "      <th>loan_category_mid2</th>\n",
       "      <th>loan_category_high</th>\n",
       "      <th>asset_category_M1</th>\n",
       "      <th>asset_category_M2</th>\n",
       "      <th>asset_category_H1</th>\n",
       "      <th>asset_category_H2</th>\n",
       "    </tr>\n",
       "  </thead>\n",
       "  <tbody>\n",
       "    <tr>\n",
       "      <th>age</th>\n",
       "      <td>1.000000</td>\n",
       "      <td>0.058155</td>\n",
       "      <td>-0.058011</td>\n",
       "      <td>-0.122741</td>\n",
       "      <td>0.193026</td>\n",
       "      <td>0.184503</td>\n",
       "      <td>0.050325</td>\n",
       "      <td>-0.029571</td>\n",
       "      <td>0.215748</td>\n",
       "      <td>0.192885</td>\n",
       "      <td>...</td>\n",
       "      <td>0.445796</td>\n",
       "      <td>0.638950</td>\n",
       "      <td>0.026335</td>\n",
       "      <td>0.013467</td>\n",
       "      <td>0.013024</td>\n",
       "      <td>-0.053596</td>\n",
       "      <td>0.051884</td>\n",
       "      <td>0.046745</td>\n",
       "      <td>-0.022688</td>\n",
       "      <td>-0.119195</td>\n",
       "    </tr>\n",
       "    <tr>\n",
       "      <th>education</th>\n",
       "      <td>0.058155</td>\n",
       "      <td>1.000000</td>\n",
       "      <td>0.000562</td>\n",
       "      <td>0.089290</td>\n",
       "      <td>0.020395</td>\n",
       "      <td>-0.002614</td>\n",
       "      <td>0.023521</td>\n",
       "      <td>0.039905</td>\n",
       "      <td>-0.019162</td>\n",
       "      <td>-0.017053</td>\n",
       "      <td>...</td>\n",
       "      <td>0.045384</td>\n",
       "      <td>0.023126</td>\n",
       "      <td>0.022318</td>\n",
       "      <td>-0.000319</td>\n",
       "      <td>-0.024896</td>\n",
       "      <td>0.006919</td>\n",
       "      <td>-0.041162</td>\n",
       "      <td>-0.032952</td>\n",
       "      <td>0.018885</td>\n",
       "      <td>0.086449</td>\n",
       "    </tr>\n",
       "    <tr>\n",
       "      <th>loan_amount</th>\n",
       "      <td>-0.058011</td>\n",
       "      <td>0.000562</td>\n",
       "      <td>1.000000</td>\n",
       "      <td>0.735176</td>\n",
       "      <td>0.010867</td>\n",
       "      <td>0.014788</td>\n",
       "      <td>-0.009412</td>\n",
       "      <td>0.115736</td>\n",
       "      <td>0.009989</td>\n",
       "      <td>0.020105</td>\n",
       "      <td>...</td>\n",
       "      <td>-0.040591</td>\n",
       "      <td>-0.022186</td>\n",
       "      <td>-0.638200</td>\n",
       "      <td>-0.250014</td>\n",
       "      <td>0.137555</td>\n",
       "      <td>0.716519</td>\n",
       "      <td>-0.429801</td>\n",
       "      <td>-0.158416</td>\n",
       "      <td>0.238221</td>\n",
       "      <td>0.536309</td>\n",
       "    </tr>\n",
       "    <tr>\n",
       "      <th>asset_cost</th>\n",
       "      <td>-0.122741</td>\n",
       "      <td>0.089290</td>\n",
       "      <td>0.735176</td>\n",
       "      <td>1.000000</td>\n",
       "      <td>-0.052643</td>\n",
       "      <td>-0.054021</td>\n",
       "      <td>-0.023489</td>\n",
       "      <td>0.048020</td>\n",
       "      <td>-0.063560</td>\n",
       "      <td>-0.049333</td>\n",
       "      <td>...</td>\n",
       "      <td>-0.086734</td>\n",
       "      <td>-0.047569</td>\n",
       "      <td>-0.284661</td>\n",
       "      <td>-0.253296</td>\n",
       "      <td>-0.079494</td>\n",
       "      <td>0.628783</td>\n",
       "      <td>-0.488264</td>\n",
       "      <td>-0.252803</td>\n",
       "      <td>0.242599</td>\n",
       "      <td>0.771117</td>\n",
       "    </tr>\n",
       "    <tr>\n",
       "      <th>no_of_loans</th>\n",
       "      <td>0.193026</td>\n",
       "      <td>0.020395</td>\n",
       "      <td>0.010867</td>\n",
       "      <td>-0.052643</td>\n",
       "      <td>1.000000</td>\n",
       "      <td>0.774705</td>\n",
       "      <td>0.235024</td>\n",
       "      <td>-0.045738</td>\n",
       "      <td>0.538903</td>\n",
       "      <td>0.549275</td>\n",
       "      <td>...</td>\n",
       "      <td>0.117773</td>\n",
       "      <td>0.077117</td>\n",
       "      <td>-0.015642</td>\n",
       "      <td>-0.002354</td>\n",
       "      <td>0.015262</td>\n",
       "      <td>0.000361</td>\n",
       "      <td>0.030859</td>\n",
       "      <td>0.017137</td>\n",
       "      <td>-0.014568</td>\n",
       "      <td>-0.051795</td>\n",
       "    </tr>\n",
       "    <tr>\n",
       "      <th>no_of_curr_loans</th>\n",
       "      <td>0.184503</td>\n",
       "      <td>-0.002614</td>\n",
       "      <td>0.014788</td>\n",
       "      <td>-0.054021</td>\n",
       "      <td>0.774705</td>\n",
       "      <td>1.000000</td>\n",
       "      <td>0.272716</td>\n",
       "      <td>-0.057306</td>\n",
       "      <td>0.647273</td>\n",
       "      <td>0.771697</td>\n",
       "      <td>...</td>\n",
       "      <td>0.098697</td>\n",
       "      <td>0.075936</td>\n",
       "      <td>-0.019718</td>\n",
       "      <td>-0.003856</td>\n",
       "      <td>0.020130</td>\n",
       "      <td>0.000437</td>\n",
       "      <td>0.026773</td>\n",
       "      <td>0.028416</td>\n",
       "      <td>-0.025417</td>\n",
       "      <td>-0.047717</td>\n",
       "    </tr>\n",
       "    <tr>\n",
       "      <th>last_delinq_none</th>\n",
       "      <td>0.050325</td>\n",
       "      <td>0.023521</td>\n",
       "      <td>-0.009412</td>\n",
       "      <td>-0.023489</td>\n",
       "      <td>0.235024</td>\n",
       "      <td>0.272716</td>\n",
       "      <td>1.000000</td>\n",
       "      <td>0.014772</td>\n",
       "      <td>0.119914</td>\n",
       "      <td>0.140415</td>\n",
       "      <td>...</td>\n",
       "      <td>0.017435</td>\n",
       "      <td>0.024132</td>\n",
       "      <td>0.005281</td>\n",
       "      <td>0.006256</td>\n",
       "      <td>0.002411</td>\n",
       "      <td>-0.014388</td>\n",
       "      <td>0.017004</td>\n",
       "      <td>0.014766</td>\n",
       "      <td>-0.024393</td>\n",
       "      <td>-0.012401</td>\n",
       "    </tr>\n",
       "    <tr>\n",
       "      <th>loan_default</th>\n",
       "      <td>-0.029571</td>\n",
       "      <td>0.039905</td>\n",
       "      <td>0.115736</td>\n",
       "      <td>0.048020</td>\n",
       "      <td>-0.045738</td>\n",
       "      <td>-0.057306</td>\n",
       "      <td>0.014772</td>\n",
       "      <td>1.000000</td>\n",
       "      <td>-0.056602</td>\n",
       "      <td>-0.048869</td>\n",
       "      <td>...</td>\n",
       "      <td>-0.037278</td>\n",
       "      <td>-0.002930</td>\n",
       "      <td>-0.098358</td>\n",
       "      <td>-0.045619</td>\n",
       "      <td>0.053718</td>\n",
       "      <td>0.082290</td>\n",
       "      <td>-0.044363</td>\n",
       "      <td>-0.009308</td>\n",
       "      <td>0.031152</td>\n",
       "      <td>0.033853</td>\n",
       "    </tr>\n",
       "    <tr>\n",
       "      <th>numloan_category</th>\n",
       "      <td>0.215748</td>\n",
       "      <td>-0.019162</td>\n",
       "      <td>0.009989</td>\n",
       "      <td>-0.063560</td>\n",
       "      <td>0.538903</td>\n",
       "      <td>0.647273</td>\n",
       "      <td>0.119914</td>\n",
       "      <td>-0.056602</td>\n",
       "      <td>1.000000</td>\n",
       "      <td>0.838766</td>\n",
       "      <td>...</td>\n",
       "      <td>0.111703</td>\n",
       "      <td>0.095653</td>\n",
       "      <td>-0.011407</td>\n",
       "      <td>-0.001861</td>\n",
       "      <td>0.013547</td>\n",
       "      <td>-0.002245</td>\n",
       "      <td>0.049772</td>\n",
       "      <td>0.020680</td>\n",
       "      <td>-0.028214</td>\n",
       "      <td>-0.064977</td>\n",
       "    </tr>\n",
       "    <tr>\n",
       "      <th>currloan_category</th>\n",
       "      <td>0.192885</td>\n",
       "      <td>-0.017053</td>\n",
       "      <td>0.020105</td>\n",
       "      <td>-0.049333</td>\n",
       "      <td>0.549275</td>\n",
       "      <td>0.771697</td>\n",
       "      <td>0.140415</td>\n",
       "      <td>-0.048869</td>\n",
       "      <td>0.838766</td>\n",
       "      <td>1.000000</td>\n",
       "      <td>...</td>\n",
       "      <td>0.101358</td>\n",
       "      <td>0.082640</td>\n",
       "      <td>-0.016989</td>\n",
       "      <td>-0.005194</td>\n",
       "      <td>0.015032</td>\n",
       "      <td>0.004956</td>\n",
       "      <td>0.027056</td>\n",
       "      <td>0.019954</td>\n",
       "      <td>-0.012830</td>\n",
       "      <td>-0.053399</td>\n",
       "    </tr>\n",
       "    <tr>\n",
       "      <th>age_category_young</th>\n",
       "      <td>-0.768873</td>\n",
       "      <td>-0.061490</td>\n",
       "      <td>0.050771</td>\n",
       "      <td>0.107863</td>\n",
       "      <td>-0.182817</td>\n",
       "      <td>-0.178157</td>\n",
       "      <td>-0.047642</td>\n",
       "      <td>0.024177</td>\n",
       "      <td>-0.211061</td>\n",
       "      <td>-0.188468</td>\n",
       "      <td>...</td>\n",
       "      <td>-0.399976</td>\n",
       "      <td>-0.272921</td>\n",
       "      <td>-0.024047</td>\n",
       "      <td>-0.010361</td>\n",
       "      <td>-0.013383</td>\n",
       "      <td>0.048481</td>\n",
       "      <td>-0.040182</td>\n",
       "      <td>-0.042643</td>\n",
       "      <td>0.008294</td>\n",
       "      <td>0.116951</td>\n",
       "    </tr>\n",
       "    <tr>\n",
       "      <th>age_category_midyoung</th>\n",
       "      <td>-0.174005</td>\n",
       "      <td>-0.001250</td>\n",
       "      <td>0.006624</td>\n",
       "      <td>0.014920</td>\n",
       "      <td>0.006745</td>\n",
       "      <td>0.022013</td>\n",
       "      <td>0.011780</td>\n",
       "      <td>0.014985</td>\n",
       "      <td>0.026743</td>\n",
       "      <td>0.024489</td>\n",
       "      <td>...</td>\n",
       "      <td>-0.383126</td>\n",
       "      <td>-0.261423</td>\n",
       "      <td>0.004139</td>\n",
       "      <td>-0.006073</td>\n",
       "      <td>-0.005862</td>\n",
       "      <td>0.009186</td>\n",
       "      <td>-0.017754</td>\n",
       "      <td>0.004429</td>\n",
       "      <td>0.019900</td>\n",
       "      <td>-0.011094</td>\n",
       "    </tr>\n",
       "    <tr>\n",
       "      <th>age_category_midsenior</th>\n",
       "      <td>0.445796</td>\n",
       "      <td>0.045384</td>\n",
       "      <td>-0.040591</td>\n",
       "      <td>-0.086734</td>\n",
       "      <td>0.117773</td>\n",
       "      <td>0.098697</td>\n",
       "      <td>0.017435</td>\n",
       "      <td>-0.037278</td>\n",
       "      <td>0.111703</td>\n",
       "      <td>0.101358</td>\n",
       "      <td>...</td>\n",
       "      <td>1.000000</td>\n",
       "      <td>-0.261237</td>\n",
       "      <td>0.011002</td>\n",
       "      <td>0.011262</td>\n",
       "      <td>0.018889</td>\n",
       "      <td>-0.043331</td>\n",
       "      <td>0.043150</td>\n",
       "      <td>0.025433</td>\n",
       "      <td>-0.023939</td>\n",
       "      <td>-0.069414</td>\n",
       "    </tr>\n",
       "    <tr>\n",
       "      <th>age_category_senior</th>\n",
       "      <td>0.638950</td>\n",
       "      <td>0.023126</td>\n",
       "      <td>-0.022186</td>\n",
       "      <td>-0.047569</td>\n",
       "      <td>0.077117</td>\n",
       "      <td>0.075936</td>\n",
       "      <td>0.024132</td>\n",
       "      <td>-0.002930</td>\n",
       "      <td>0.095653</td>\n",
       "      <td>0.082640</td>\n",
       "      <td>...</td>\n",
       "      <td>-0.261237</td>\n",
       "      <td>1.000000</td>\n",
       "      <td>0.011688</td>\n",
       "      <td>0.006707</td>\n",
       "      <td>0.000763</td>\n",
       "      <td>-0.019051</td>\n",
       "      <td>0.019420</td>\n",
       "      <td>0.016966</td>\n",
       "      <td>-0.005517</td>\n",
       "      <td>-0.048265</td>\n",
       "    </tr>\n",
       "    <tr>\n",
       "      <th>loan_category_low</th>\n",
       "      <td>0.026335</td>\n",
       "      <td>0.022318</td>\n",
       "      <td>-0.638200</td>\n",
       "      <td>-0.284661</td>\n",
       "      <td>-0.015642</td>\n",
       "      <td>-0.019718</td>\n",
       "      <td>0.005281</td>\n",
       "      <td>-0.098358</td>\n",
       "      <td>-0.011407</td>\n",
       "      <td>-0.016989</td>\n",
       "      <td>...</td>\n",
       "      <td>0.011002</td>\n",
       "      <td>0.011688</td>\n",
       "      <td>1.000000</td>\n",
       "      <td>-0.304168</td>\n",
       "      <td>-0.315234</td>\n",
       "      <td>-0.257098</td>\n",
       "      <td>0.327104</td>\n",
       "      <td>-0.056657</td>\n",
       "      <td>-0.170120</td>\n",
       "      <td>-0.134907</td>\n",
       "    </tr>\n",
       "    <tr>\n",
       "      <th>loan_category_mid1</th>\n",
       "      <td>0.013467</td>\n",
       "      <td>-0.000319</td>\n",
       "      <td>-0.250014</td>\n",
       "      <td>-0.253296</td>\n",
       "      <td>-0.002354</td>\n",
       "      <td>-0.003856</td>\n",
       "      <td>0.006256</td>\n",
       "      <td>-0.045619</td>\n",
       "      <td>-0.001861</td>\n",
       "      <td>-0.005194</td>\n",
       "      <td>...</td>\n",
       "      <td>0.011262</td>\n",
       "      <td>0.006707</td>\n",
       "      <td>-0.304168</td>\n",
       "      <td>1.000000</td>\n",
       "      <td>-0.418043</td>\n",
       "      <td>-0.340947</td>\n",
       "      <td>0.230051</td>\n",
       "      <td>0.080573</td>\n",
       "      <td>-0.196148</td>\n",
       "      <td>-0.175893</td>\n",
       "    </tr>\n",
       "    <tr>\n",
       "      <th>loan_category_mid2</th>\n",
       "      <td>0.013024</td>\n",
       "      <td>-0.024896</td>\n",
       "      <td>0.137555</td>\n",
       "      <td>-0.079494</td>\n",
       "      <td>0.015262</td>\n",
       "      <td>0.020130</td>\n",
       "      <td>0.002411</td>\n",
       "      <td>0.053718</td>\n",
       "      <td>0.013547</td>\n",
       "      <td>0.015032</td>\n",
       "      <td>...</td>\n",
       "      <td>0.018889</td>\n",
       "      <td>0.000763</td>\n",
       "      <td>-0.315234</td>\n",
       "      <td>-0.418043</td>\n",
       "      <td>1.000000</td>\n",
       "      <td>-0.353351</td>\n",
       "      <td>-0.216607</td>\n",
       "      <td>0.271314</td>\n",
       "      <td>0.021670</td>\n",
       "      <td>-0.155365</td>\n",
       "    </tr>\n",
       "    <tr>\n",
       "      <th>loan_category_high</th>\n",
       "      <td>-0.053596</td>\n",
       "      <td>0.006919</td>\n",
       "      <td>0.716519</td>\n",
       "      <td>0.628783</td>\n",
       "      <td>0.000361</td>\n",
       "      <td>0.000437</td>\n",
       "      <td>-0.014388</td>\n",
       "      <td>0.082290</td>\n",
       "      <td>-0.002245</td>\n",
       "      <td>0.004956</td>\n",
       "      <td>...</td>\n",
       "      <td>-0.043331</td>\n",
       "      <td>-0.019051</td>\n",
       "      <td>-0.257098</td>\n",
       "      <td>-0.340947</td>\n",
       "      <td>-0.353351</td>\n",
       "      <td>1.000000</td>\n",
       "      <td>-0.316906</td>\n",
       "      <td>-0.333530</td>\n",
       "      <td>0.348163</td>\n",
       "      <td>0.488344</td>\n",
       "    </tr>\n",
       "    <tr>\n",
       "      <th>asset_category_M1</th>\n",
       "      <td>0.051884</td>\n",
       "      <td>-0.041162</td>\n",
       "      <td>-0.429801</td>\n",
       "      <td>-0.488264</td>\n",
       "      <td>0.030859</td>\n",
       "      <td>0.026773</td>\n",
       "      <td>0.017004</td>\n",
       "      <td>-0.044363</td>\n",
       "      <td>0.049772</td>\n",
       "      <td>0.027056</td>\n",
       "      <td>...</td>\n",
       "      <td>0.043150</td>\n",
       "      <td>0.019420</td>\n",
       "      <td>0.327104</td>\n",
       "      <td>0.230051</td>\n",
       "      <td>-0.216607</td>\n",
       "      <td>-0.316906</td>\n",
       "      <td>1.000000</td>\n",
       "      <td>-0.451155</td>\n",
       "      <td>-0.365266</td>\n",
       "      <td>-0.192373</td>\n",
       "    </tr>\n",
       "    <tr>\n",
       "      <th>asset_category_M2</th>\n",
       "      <td>0.046745</td>\n",
       "      <td>-0.032952</td>\n",
       "      <td>-0.158416</td>\n",
       "      <td>-0.252803</td>\n",
       "      <td>0.017137</td>\n",
       "      <td>0.028416</td>\n",
       "      <td>0.014766</td>\n",
       "      <td>-0.009308</td>\n",
       "      <td>0.020680</td>\n",
       "      <td>0.019954</td>\n",
       "      <td>...</td>\n",
       "      <td>0.025433</td>\n",
       "      <td>0.016966</td>\n",
       "      <td>-0.056657</td>\n",
       "      <td>0.080573</td>\n",
       "      <td>0.271314</td>\n",
       "      <td>-0.333530</td>\n",
       "      <td>-0.451155</td>\n",
       "      <td>1.000000</td>\n",
       "      <td>-0.472877</td>\n",
       "      <td>-0.249048</td>\n",
       "    </tr>\n",
       "    <tr>\n",
       "      <th>asset_category_H1</th>\n",
       "      <td>-0.022688</td>\n",
       "      <td>0.018885</td>\n",
       "      <td>0.238221</td>\n",
       "      <td>0.242599</td>\n",
       "      <td>-0.014568</td>\n",
       "      <td>-0.025417</td>\n",
       "      <td>-0.024393</td>\n",
       "      <td>0.031152</td>\n",
       "      <td>-0.028214</td>\n",
       "      <td>-0.012830</td>\n",
       "      <td>...</td>\n",
       "      <td>-0.023939</td>\n",
       "      <td>-0.005517</td>\n",
       "      <td>-0.170120</td>\n",
       "      <td>-0.196148</td>\n",
       "      <td>0.021670</td>\n",
       "      <td>0.348163</td>\n",
       "      <td>-0.365266</td>\n",
       "      <td>-0.472877</td>\n",
       "      <td>1.000000</td>\n",
       "      <td>-0.201636</td>\n",
       "    </tr>\n",
       "    <tr>\n",
       "      <th>asset_category_H2</th>\n",
       "      <td>-0.119195</td>\n",
       "      <td>0.086449</td>\n",
       "      <td>0.536309</td>\n",
       "      <td>0.771117</td>\n",
       "      <td>-0.051795</td>\n",
       "      <td>-0.047717</td>\n",
       "      <td>-0.012401</td>\n",
       "      <td>0.033853</td>\n",
       "      <td>-0.064977</td>\n",
       "      <td>-0.053399</td>\n",
       "      <td>...</td>\n",
       "      <td>-0.069414</td>\n",
       "      <td>-0.048265</td>\n",
       "      <td>-0.134907</td>\n",
       "      <td>-0.175893</td>\n",
       "      <td>-0.155365</td>\n",
       "      <td>0.488344</td>\n",
       "      <td>-0.192373</td>\n",
       "      <td>-0.249048</td>\n",
       "      <td>-0.201636</td>\n",
       "      <td>1.000000</td>\n",
       "    </tr>\n",
       "  </tbody>\n",
       "</table>\n",
       "<p>22 rows × 22 columns</p>\n",
       "</div>"
      ],
      "text/plain": [
       "                             age  education  loan_amount  asset_cost  \\\n",
       "age                     1.000000   0.058155    -0.058011   -0.122741   \n",
       "education               0.058155   1.000000     0.000562    0.089290   \n",
       "loan_amount            -0.058011   0.000562     1.000000    0.735176   \n",
       "asset_cost             -0.122741   0.089290     0.735176    1.000000   \n",
       "no_of_loans             0.193026   0.020395     0.010867   -0.052643   \n",
       "no_of_curr_loans        0.184503  -0.002614     0.014788   -0.054021   \n",
       "last_delinq_none        0.050325   0.023521    -0.009412   -0.023489   \n",
       "loan_default           -0.029571   0.039905     0.115736    0.048020   \n",
       "numloan_category        0.215748  -0.019162     0.009989   -0.063560   \n",
       "currloan_category       0.192885  -0.017053     0.020105   -0.049333   \n",
       "age_category_young     -0.768873  -0.061490     0.050771    0.107863   \n",
       "age_category_midyoung  -0.174005  -0.001250     0.006624    0.014920   \n",
       "age_category_midsenior  0.445796   0.045384    -0.040591   -0.086734   \n",
       "age_category_senior     0.638950   0.023126    -0.022186   -0.047569   \n",
       "loan_category_low       0.026335   0.022318    -0.638200   -0.284661   \n",
       "loan_category_mid1      0.013467  -0.000319    -0.250014   -0.253296   \n",
       "loan_category_mid2      0.013024  -0.024896     0.137555   -0.079494   \n",
       "loan_category_high     -0.053596   0.006919     0.716519    0.628783   \n",
       "asset_category_M1       0.051884  -0.041162    -0.429801   -0.488264   \n",
       "asset_category_M2       0.046745  -0.032952    -0.158416   -0.252803   \n",
       "asset_category_H1      -0.022688   0.018885     0.238221    0.242599   \n",
       "asset_category_H2      -0.119195   0.086449     0.536309    0.771117   \n",
       "\n",
       "                        no_of_loans  no_of_curr_loans  last_delinq_none  \\\n",
       "age                        0.193026          0.184503          0.050325   \n",
       "education                  0.020395         -0.002614          0.023521   \n",
       "loan_amount                0.010867          0.014788         -0.009412   \n",
       "asset_cost                -0.052643         -0.054021         -0.023489   \n",
       "no_of_loans                1.000000          0.774705          0.235024   \n",
       "no_of_curr_loans           0.774705          1.000000          0.272716   \n",
       "last_delinq_none           0.235024          0.272716          1.000000   \n",
       "loan_default              -0.045738         -0.057306          0.014772   \n",
       "numloan_category           0.538903          0.647273          0.119914   \n",
       "currloan_category          0.549275          0.771697          0.140415   \n",
       "age_category_young        -0.182817         -0.178157         -0.047642   \n",
       "age_category_midyoung      0.006745          0.022013          0.011780   \n",
       "age_category_midsenior     0.117773          0.098697          0.017435   \n",
       "age_category_senior        0.077117          0.075936          0.024132   \n",
       "loan_category_low         -0.015642         -0.019718          0.005281   \n",
       "loan_category_mid1        -0.002354         -0.003856          0.006256   \n",
       "loan_category_mid2         0.015262          0.020130          0.002411   \n",
       "loan_category_high         0.000361          0.000437         -0.014388   \n",
       "asset_category_M1          0.030859          0.026773          0.017004   \n",
       "asset_category_M2          0.017137          0.028416          0.014766   \n",
       "asset_category_H1         -0.014568         -0.025417         -0.024393   \n",
       "asset_category_H2         -0.051795         -0.047717         -0.012401   \n",
       "\n",
       "                        loan_default  numloan_category  currloan_category  \\\n",
       "age                        -0.029571          0.215748           0.192885   \n",
       "education                   0.039905         -0.019162          -0.017053   \n",
       "loan_amount                 0.115736          0.009989           0.020105   \n",
       "asset_cost                  0.048020         -0.063560          -0.049333   \n",
       "no_of_loans                -0.045738          0.538903           0.549275   \n",
       "no_of_curr_loans           -0.057306          0.647273           0.771697   \n",
       "last_delinq_none            0.014772          0.119914           0.140415   \n",
       "loan_default                1.000000         -0.056602          -0.048869   \n",
       "numloan_category           -0.056602          1.000000           0.838766   \n",
       "currloan_category          -0.048869          0.838766           1.000000   \n",
       "age_category_young          0.024177         -0.211061          -0.188468   \n",
       "age_category_midyoung       0.014985          0.026743           0.024489   \n",
       "age_category_midsenior     -0.037278          0.111703           0.101358   \n",
       "age_category_senior        -0.002930          0.095653           0.082640   \n",
       "loan_category_low          -0.098358         -0.011407          -0.016989   \n",
       "loan_category_mid1         -0.045619         -0.001861          -0.005194   \n",
       "loan_category_mid2          0.053718          0.013547           0.015032   \n",
       "loan_category_high          0.082290         -0.002245           0.004956   \n",
       "asset_category_M1          -0.044363          0.049772           0.027056   \n",
       "asset_category_M2          -0.009308          0.020680           0.019954   \n",
       "asset_category_H1           0.031152         -0.028214          -0.012830   \n",
       "asset_category_H2           0.033853         -0.064977          -0.053399   \n",
       "\n",
       "                        ...  age_category_midsenior  age_category_senior  \\\n",
       "age                     ...                0.445796             0.638950   \n",
       "education               ...                0.045384             0.023126   \n",
       "loan_amount             ...               -0.040591            -0.022186   \n",
       "asset_cost              ...               -0.086734            -0.047569   \n",
       "no_of_loans             ...                0.117773             0.077117   \n",
       "no_of_curr_loans        ...                0.098697             0.075936   \n",
       "last_delinq_none        ...                0.017435             0.024132   \n",
       "loan_default            ...               -0.037278            -0.002930   \n",
       "numloan_category        ...                0.111703             0.095653   \n",
       "currloan_category       ...                0.101358             0.082640   \n",
       "age_category_young      ...               -0.399976            -0.272921   \n",
       "age_category_midyoung   ...               -0.383126            -0.261423   \n",
       "age_category_midsenior  ...                1.000000            -0.261237   \n",
       "age_category_senior     ...               -0.261237             1.000000   \n",
       "loan_category_low       ...                0.011002             0.011688   \n",
       "loan_category_mid1      ...                0.011262             0.006707   \n",
       "loan_category_mid2      ...                0.018889             0.000763   \n",
       "loan_category_high      ...               -0.043331            -0.019051   \n",
       "asset_category_M1       ...                0.043150             0.019420   \n",
       "asset_category_M2       ...                0.025433             0.016966   \n",
       "asset_category_H1       ...               -0.023939            -0.005517   \n",
       "asset_category_H2       ...               -0.069414            -0.048265   \n",
       "\n",
       "                        loan_category_low  loan_category_mid1  \\\n",
       "age                              0.026335            0.013467   \n",
       "education                        0.022318           -0.000319   \n",
       "loan_amount                     -0.638200           -0.250014   \n",
       "asset_cost                      -0.284661           -0.253296   \n",
       "no_of_loans                     -0.015642           -0.002354   \n",
       "no_of_curr_loans                -0.019718           -0.003856   \n",
       "last_delinq_none                 0.005281            0.006256   \n",
       "loan_default                    -0.098358           -0.045619   \n",
       "numloan_category                -0.011407           -0.001861   \n",
       "currloan_category               -0.016989           -0.005194   \n",
       "age_category_young              -0.024047           -0.010361   \n",
       "age_category_midyoung            0.004139           -0.006073   \n",
       "age_category_midsenior           0.011002            0.011262   \n",
       "age_category_senior              0.011688            0.006707   \n",
       "loan_category_low                1.000000           -0.304168   \n",
       "loan_category_mid1              -0.304168            1.000000   \n",
       "loan_category_mid2              -0.315234           -0.418043   \n",
       "loan_category_high              -0.257098           -0.340947   \n",
       "asset_category_M1                0.327104            0.230051   \n",
       "asset_category_M2               -0.056657            0.080573   \n",
       "asset_category_H1               -0.170120           -0.196148   \n",
       "asset_category_H2               -0.134907           -0.175893   \n",
       "\n",
       "                        loan_category_mid2  loan_category_high  \\\n",
       "age                               0.013024           -0.053596   \n",
       "education                        -0.024896            0.006919   \n",
       "loan_amount                       0.137555            0.716519   \n",
       "asset_cost                       -0.079494            0.628783   \n",
       "no_of_loans                       0.015262            0.000361   \n",
       "no_of_curr_loans                  0.020130            0.000437   \n",
       "last_delinq_none                  0.002411           -0.014388   \n",
       "loan_default                      0.053718            0.082290   \n",
       "numloan_category                  0.013547           -0.002245   \n",
       "currloan_category                 0.015032            0.004956   \n",
       "age_category_young               -0.013383            0.048481   \n",
       "age_category_midyoung            -0.005862            0.009186   \n",
       "age_category_midsenior            0.018889           -0.043331   \n",
       "age_category_senior               0.000763           -0.019051   \n",
       "loan_category_low                -0.315234           -0.257098   \n",
       "loan_category_mid1               -0.418043           -0.340947   \n",
       "loan_category_mid2                1.000000           -0.353351   \n",
       "loan_category_high               -0.353351            1.000000   \n",
       "asset_category_M1                -0.216607           -0.316906   \n",
       "asset_category_M2                 0.271314           -0.333530   \n",
       "asset_category_H1                 0.021670            0.348163   \n",
       "asset_category_H2                -0.155365            0.488344   \n",
       "\n",
       "                        asset_category_M1  asset_category_M2  \\\n",
       "age                              0.051884           0.046745   \n",
       "education                       -0.041162          -0.032952   \n",
       "loan_amount                     -0.429801          -0.158416   \n",
       "asset_cost                      -0.488264          -0.252803   \n",
       "no_of_loans                      0.030859           0.017137   \n",
       "no_of_curr_loans                 0.026773           0.028416   \n",
       "last_delinq_none                 0.017004           0.014766   \n",
       "loan_default                    -0.044363          -0.009308   \n",
       "numloan_category                 0.049772           0.020680   \n",
       "currloan_category                0.027056           0.019954   \n",
       "age_category_young              -0.040182          -0.042643   \n",
       "age_category_midyoung           -0.017754           0.004429   \n",
       "age_category_midsenior           0.043150           0.025433   \n",
       "age_category_senior              0.019420           0.016966   \n",
       "loan_category_low                0.327104          -0.056657   \n",
       "loan_category_mid1               0.230051           0.080573   \n",
       "loan_category_mid2              -0.216607           0.271314   \n",
       "loan_category_high              -0.316906          -0.333530   \n",
       "asset_category_M1                1.000000          -0.451155   \n",
       "asset_category_M2               -0.451155           1.000000   \n",
       "asset_category_H1               -0.365266          -0.472877   \n",
       "asset_category_H2               -0.192373          -0.249048   \n",
       "\n",
       "                        asset_category_H1  asset_category_H2  \n",
       "age                             -0.022688          -0.119195  \n",
       "education                        0.018885           0.086449  \n",
       "loan_amount                      0.238221           0.536309  \n",
       "asset_cost                       0.242599           0.771117  \n",
       "no_of_loans                     -0.014568          -0.051795  \n",
       "no_of_curr_loans                -0.025417          -0.047717  \n",
       "last_delinq_none                -0.024393          -0.012401  \n",
       "loan_default                     0.031152           0.033853  \n",
       "numloan_category                -0.028214          -0.064977  \n",
       "currloan_category               -0.012830          -0.053399  \n",
       "age_category_young               0.008294           0.116951  \n",
       "age_category_midyoung            0.019900          -0.011094  \n",
       "age_category_midsenior          -0.023939          -0.069414  \n",
       "age_category_senior             -0.005517          -0.048265  \n",
       "loan_category_low               -0.170120          -0.134907  \n",
       "loan_category_mid1              -0.196148          -0.175893  \n",
       "loan_category_mid2               0.021670          -0.155365  \n",
       "loan_category_high               0.348163           0.488344  \n",
       "asset_category_M1               -0.365266          -0.192373  \n",
       "asset_category_M2               -0.472877          -0.249048  \n",
       "asset_category_H1                1.000000          -0.201636  \n",
       "asset_category_H2               -0.201636           1.000000  \n",
       "\n",
       "[22 rows x 22 columns]"
      ]
     },
     "execution_count": 62,
     "metadata": {},
     "output_type": "execute_result"
    }
   ],
   "source": [
    "train2.corr()"
   ]
  },
  {
   "cell_type": "code",
   "execution_count": 63,
   "id": "f21d12c4",
   "metadata": {},
   "outputs": [
    {
     "data": {
      "image/png": "[encoded data removed]",
      "text/plain": [
       "<Figure size 5040x1400 with 6 Axes>"
      ]
     },
     "metadata": {
      "needs_background": "light"
     },
     "output_type": "display_data"
    }
   ],
   "source": [
    "plt.figure(figsize=(36,10),dpi=140)\n",
    "for j,i in enumerate(['pearson','kendall','spearman']):\n",
    "    plt.subplot(1,3,j+1)\n",
    "    correlation= train2.corr(method=i)\n",
    "    sns.heatmap(correlation,linewidth=2)\n",
    "    plt.title(i,fontsize=15)"
   ]
  },
  {
   "cell_type": "code",
   "execution_count": 64,
   "id": "e5cdf3b2",
   "metadata": {},
   "outputs": [],
   "source": [
    "# we can observe that following feautures are correlated\n",
    "#1)loan_amonut & Asset Cost\n",
    "#2)Number of loans & Number of Current loans"
   ]
  },
  {
   "cell_type": "markdown",
   "id": "8abac1b9",
   "metadata": {},
   "source": [
    "### SCALING AND TRAINING THE MODEL"
   ]
  },
  {
   "cell_type": "code",
   "execution_count": 65,
   "id": "749241b3",
   "metadata": {},
   "outputs": [],
   "source": [
    "y=pd.DataFrame(train2['loan_default'])"
   ]
  },
  {
   "cell_type": "code",
   "execution_count": 66,
   "id": "257236c7",
   "metadata": {},
   "outputs": [],
   "source": [
    "train2=train2.drop('loan_default',axis=1)"
   ]
  },
  {
   "cell_type": "code",
   "execution_count": 67,
   "id": "6f2f67e3",
   "metadata": {},
   "outputs": [],
   "source": [
    "from sklearn.preprocessing import MinMaxScaler"
   ]
  },
  {
   "cell_type": "code",
   "execution_count": 68,
   "id": "43366dad",
   "metadata": {},
   "outputs": [],
   "source": [
    "MinMax=MinMaxScaler()"
   ]
  },
  {
   "cell_type": "code",
   "execution_count": 69,
   "id": "9f45515d",
   "metadata": {},
   "outputs": [],
   "source": [
    "Minmaxfit=MinMax.fit(train2)"
   ]
  },
  {
   "cell_type": "code",
   "execution_count": 70,
   "id": "5caafbeb",
   "metadata": {},
   "outputs": [],
   "source": [
    "train2=pd.DataFrame(Minmaxfit.transform(train2),columns=train2.columns)\n",
    "test2=pd.DataFrame(Minmaxfit.transform(test2),columns=test2.columns)"
   ]
  },
  {
   "cell_type": "code",
   "execution_count": 71,
   "id": "48527eda",
   "metadata": {},
   "outputs": [
    {
     "data": {
      "text/html": [
       "<div>\n",
       "<style scoped>\n",
       "    .dataframe tbody tr th:only-of-type {\n",
       "        vertical-align: middle;\n",
       "    }\n",
       "\n",
       "    .dataframe tbody tr th {\n",
       "        vertical-align: top;\n",
       "    }\n",
       "\n",
       "    .dataframe thead th {\n",
       "        text-align: right;\n",
       "    }\n",
       "</style>\n",
       "<table border=\"1\" class=\"dataframe\">\n",
       "  <thead>\n",
       "    <tr style=\"text-align: right;\">\n",
       "      <th></th>\n",
       "      <th>age</th>\n",
       "      <th>education</th>\n",
       "      <th>loan_amount</th>\n",
       "      <th>asset_cost</th>\n",
       "      <th>no_of_loans</th>\n",
       "      <th>no_of_curr_loans</th>\n",
       "      <th>last_delinq_none</th>\n",
       "      <th>numloan_category</th>\n",
       "      <th>currloan_category</th>\n",
       "      <th>age_category_young</th>\n",
       "      <th>...</th>\n",
       "      <th>age_category_midsenior</th>\n",
       "      <th>age_category_senior</th>\n",
       "      <th>loan_category_low</th>\n",
       "      <th>loan_category_mid1</th>\n",
       "      <th>loan_category_mid2</th>\n",
       "      <th>loan_category_high</th>\n",
       "      <th>asset_category_M1</th>\n",
       "      <th>asset_category_M2</th>\n",
       "      <th>asset_category_H1</th>\n",
       "      <th>asset_category_H2</th>\n",
       "    </tr>\n",
       "  </thead>\n",
       "  <tbody>\n",
       "    <tr>\n",
       "      <th>0</th>\n",
       "      <td>0.206897</td>\n",
       "      <td>0.0</td>\n",
       "      <td>0.208481</td>\n",
       "      <td>0.178620</td>\n",
       "      <td>0.018349</td>\n",
       "      <td>0.060606</td>\n",
       "      <td>0.0</td>\n",
       "      <td>1.0</td>\n",
       "      <td>1.0</td>\n",
       "      <td>1.0</td>\n",
       "      <td>...</td>\n",
       "      <td>0.0</td>\n",
       "      <td>0.0</td>\n",
       "      <td>1.0</td>\n",
       "      <td>0.0</td>\n",
       "      <td>0.0</td>\n",
       "      <td>0.0</td>\n",
       "      <td>0.0</td>\n",
       "      <td>1.0</td>\n",
       "      <td>0.0</td>\n",
       "      <td>0.0</td>\n",
       "    </tr>\n",
       "    <tr>\n",
       "      <th>1</th>\n",
       "      <td>0.931034</td>\n",
       "      <td>0.0</td>\n",
       "      <td>0.347491</td>\n",
       "      <td>0.184029</td>\n",
       "      <td>0.055046</td>\n",
       "      <td>0.060606</td>\n",
       "      <td>0.0</td>\n",
       "      <td>1.0</td>\n",
       "      <td>1.0</td>\n",
       "      <td>0.0</td>\n",
       "      <td>...</td>\n",
       "      <td>0.0</td>\n",
       "      <td>1.0</td>\n",
       "      <td>0.0</td>\n",
       "      <td>0.0</td>\n",
       "      <td>1.0</td>\n",
       "      <td>0.0</td>\n",
       "      <td>0.0</td>\n",
       "      <td>1.0</td>\n",
       "      <td>0.0</td>\n",
       "      <td>0.0</td>\n",
       "    </tr>\n",
       "    <tr>\n",
       "      <th>2</th>\n",
       "      <td>0.310345</td>\n",
       "      <td>1.0</td>\n",
       "      <td>0.294427</td>\n",
       "      <td>0.181278</td>\n",
       "      <td>0.000000</td>\n",
       "      <td>0.000000</td>\n",
       "      <td>0.0</td>\n",
       "      <td>0.0</td>\n",
       "      <td>0.0</td>\n",
       "      <td>1.0</td>\n",
       "      <td>...</td>\n",
       "      <td>0.0</td>\n",
       "      <td>0.0</td>\n",
       "      <td>0.0</td>\n",
       "      <td>1.0</td>\n",
       "      <td>0.0</td>\n",
       "      <td>0.0</td>\n",
       "      <td>0.0</td>\n",
       "      <td>1.0</td>\n",
       "      <td>0.0</td>\n",
       "      <td>0.0</td>\n",
       "    </tr>\n",
       "    <tr>\n",
       "      <th>3</th>\n",
       "      <td>0.241379</td>\n",
       "      <td>0.0</td>\n",
       "      <td>0.358647</td>\n",
       "      <td>0.235153</td>\n",
       "      <td>0.000000</td>\n",
       "      <td>0.000000</td>\n",
       "      <td>0.0</td>\n",
       "      <td>0.0</td>\n",
       "      <td>0.0</td>\n",
       "      <td>1.0</td>\n",
       "      <td>...</td>\n",
       "      <td>0.0</td>\n",
       "      <td>0.0</td>\n",
       "      <td>0.0</td>\n",
       "      <td>0.0</td>\n",
       "      <td>1.0</td>\n",
       "      <td>0.0</td>\n",
       "      <td>0.0</td>\n",
       "      <td>0.0</td>\n",
       "      <td>1.0</td>\n",
       "      <td>0.0</td>\n",
       "    </tr>\n",
       "    <tr>\n",
       "      <th>4</th>\n",
       "      <td>0.275862</td>\n",
       "      <td>0.0</td>\n",
       "      <td>0.602419</td>\n",
       "      <td>0.734203</td>\n",
       "      <td>0.000000</td>\n",
       "      <td>0.000000</td>\n",
       "      <td>0.0</td>\n",
       "      <td>0.0</td>\n",
       "      <td>0.0</td>\n",
       "      <td>1.0</td>\n",
       "      <td>...</td>\n",
       "      <td>0.0</td>\n",
       "      <td>0.0</td>\n",
       "      <td>0.0</td>\n",
       "      <td>0.0</td>\n",
       "      <td>0.0</td>\n",
       "      <td>1.0</td>\n",
       "      <td>0.0</td>\n",
       "      <td>0.0</td>\n",
       "      <td>0.0</td>\n",
       "      <td>1.0</td>\n",
       "    </tr>\n",
       "  </tbody>\n",
       "</table>\n",
       "<p>5 rows × 21 columns</p>\n",
       "</div>"
      ],
      "text/plain": [
       "        age  education  loan_amount  asset_cost  no_of_loans  \\\n",
       "0  0.206897        0.0     0.208481    0.178620     0.018349   \n",
       "1  0.931034        0.0     0.347491    0.184029     0.055046   \n",
       "2  0.310345        1.0     0.294427    0.181278     0.000000   \n",
       "3  0.241379        0.0     0.358647    0.235153     0.000000   \n",
       "4  0.275862        0.0     0.602419    0.734203     0.000000   \n",
       "\n",
       "   no_of_curr_loans  last_delinq_none  numloan_category  currloan_category  \\\n",
       "0          0.060606               0.0               1.0                1.0   \n",
       "1          0.060606               0.0               1.0                1.0   \n",
       "2          0.000000               0.0               0.0                0.0   \n",
       "3          0.000000               0.0               0.0                0.0   \n",
       "4          0.000000               0.0               0.0                0.0   \n",
       "\n",
       "   age_category_young  ...  age_category_midsenior  age_category_senior  \\\n",
       "0                 1.0  ...                     0.0                  0.0   \n",
       "1                 0.0  ...                     0.0                  1.0   \n",
       "2                 1.0  ...                     0.0                  0.0   \n",
       "3                 1.0  ...                     0.0                  0.0   \n",
       "4                 1.0  ...                     0.0                  0.0   \n",
       "\n",
       "   loan_category_low  loan_category_mid1  loan_category_mid2  \\\n",
       "0                1.0                 0.0                 0.0   \n",
       "1                0.0                 0.0                 1.0   \n",
       "2                0.0                 1.0                 0.0   \n",
       "3                0.0                 0.0                 1.0   \n",
       "4                0.0                 0.0                 0.0   \n",
       "\n",
       "   loan_category_high  asset_category_M1  asset_category_M2  \\\n",
       "0                 0.0                0.0                1.0   \n",
       "1                 0.0                0.0                1.0   \n",
       "2                 0.0                0.0                1.0   \n",
       "3                 0.0                0.0                0.0   \n",
       "4                 1.0                0.0                0.0   \n",
       "\n",
       "   asset_category_H1  asset_category_H2  \n",
       "0                0.0                0.0  \n",
       "1                0.0                0.0  \n",
       "2                0.0                0.0  \n",
       "3                1.0                0.0  \n",
       "4                0.0                1.0  \n",
       "\n",
       "[5 rows x 21 columns]"
      ]
     },
     "execution_count": 71,
     "metadata": {},
     "output_type": "execute_result"
    }
   ],
   "source": [
    "train2.head()"
   ]
  },
  {
   "cell_type": "code",
   "execution_count": 72,
   "id": "cb61d0f7",
   "metadata": {},
   "outputs": [
    {
     "data": {
      "text/html": [
       "<div>\n",
       "<style scoped>\n",
       "    .dataframe tbody tr th:only-of-type {\n",
       "        vertical-align: middle;\n",
       "    }\n",
       "\n",
       "    .dataframe tbody tr th {\n",
       "        vertical-align: top;\n",
       "    }\n",
       "\n",
       "    .dataframe thead th {\n",
       "        text-align: right;\n",
       "    }\n",
       "</style>\n",
       "<table border=\"1\" class=\"dataframe\">\n",
       "  <thead>\n",
       "    <tr style=\"text-align: right;\">\n",
       "      <th></th>\n",
       "      <th>age</th>\n",
       "      <th>education</th>\n",
       "      <th>loan_amount</th>\n",
       "      <th>asset_cost</th>\n",
       "      <th>no_of_loans</th>\n",
       "      <th>no_of_curr_loans</th>\n",
       "      <th>last_delinq_none</th>\n",
       "      <th>numloan_category</th>\n",
       "      <th>currloan_category</th>\n",
       "      <th>age_category_young</th>\n",
       "      <th>...</th>\n",
       "      <th>age_category_midsenior</th>\n",
       "      <th>age_category_senior</th>\n",
       "      <th>loan_category_low</th>\n",
       "      <th>loan_category_mid1</th>\n",
       "      <th>loan_category_mid2</th>\n",
       "      <th>loan_category_high</th>\n",
       "      <th>asset_category_M1</th>\n",
       "      <th>asset_category_M2</th>\n",
       "      <th>asset_category_H1</th>\n",
       "      <th>asset_category_H2</th>\n",
       "    </tr>\n",
       "  </thead>\n",
       "  <tbody>\n",
       "    <tr>\n",
       "      <th>0</th>\n",
       "      <td>0.275862</td>\n",
       "      <td>0.0</td>\n",
       "      <td>0.290708</td>\n",
       "      <td>0.151547</td>\n",
       "      <td>0.018349</td>\n",
       "      <td>0.060606</td>\n",
       "      <td>0.0</td>\n",
       "      <td>1.0</td>\n",
       "      <td>1.0</td>\n",
       "      <td>1.0</td>\n",
       "      <td>...</td>\n",
       "      <td>0.0</td>\n",
       "      <td>0.0</td>\n",
       "      <td>0.0</td>\n",
       "      <td>1.0</td>\n",
       "      <td>0.0</td>\n",
       "      <td>0.0</td>\n",
       "      <td>1.0</td>\n",
       "      <td>0.0</td>\n",
       "      <td>0.0</td>\n",
       "      <td>0.0</td>\n",
       "    </tr>\n",
       "    <tr>\n",
       "      <th>1</th>\n",
       "      <td>0.241379</td>\n",
       "      <td>0.0</td>\n",
       "      <td>0.236200</td>\n",
       "      <td>0.112911</td>\n",
       "      <td>0.027523</td>\n",
       "      <td>0.090909</td>\n",
       "      <td>0.0</td>\n",
       "      <td>1.0</td>\n",
       "      <td>1.0</td>\n",
       "      <td>1.0</td>\n",
       "      <td>...</td>\n",
       "      <td>0.0</td>\n",
       "      <td>0.0</td>\n",
       "      <td>1.0</td>\n",
       "      <td>0.0</td>\n",
       "      <td>0.0</td>\n",
       "      <td>0.0</td>\n",
       "      <td>1.0</td>\n",
       "      <td>0.0</td>\n",
       "      <td>0.0</td>\n",
       "      <td>0.0</td>\n",
       "    </tr>\n",
       "    <tr>\n",
       "      <th>2</th>\n",
       "      <td>0.241379</td>\n",
       "      <td>0.0</td>\n",
       "      <td>0.299893</td>\n",
       "      <td>0.238070</td>\n",
       "      <td>0.000000</td>\n",
       "      <td>0.000000</td>\n",
       "      <td>0.0</td>\n",
       "      <td>0.0</td>\n",
       "      <td>0.0</td>\n",
       "      <td>1.0</td>\n",
       "      <td>...</td>\n",
       "      <td>0.0</td>\n",
       "      <td>0.0</td>\n",
       "      <td>0.0</td>\n",
       "      <td>0.0</td>\n",
       "      <td>1.0</td>\n",
       "      <td>0.0</td>\n",
       "      <td>0.0</td>\n",
       "      <td>0.0</td>\n",
       "      <td>1.0</td>\n",
       "      <td>0.0</td>\n",
       "    </tr>\n",
       "    <tr>\n",
       "      <th>3</th>\n",
       "      <td>0.827586</td>\n",
       "      <td>1.0</td>\n",
       "      <td>0.276912</td>\n",
       "      <td>0.139522</td>\n",
       "      <td>0.036697</td>\n",
       "      <td>0.090909</td>\n",
       "      <td>0.0</td>\n",
       "      <td>1.0</td>\n",
       "      <td>1.0</td>\n",
       "      <td>0.0</td>\n",
       "      <td>...</td>\n",
       "      <td>1.0</td>\n",
       "      <td>0.0</td>\n",
       "      <td>0.0</td>\n",
       "      <td>1.0</td>\n",
       "      <td>0.0</td>\n",
       "      <td>0.0</td>\n",
       "      <td>1.0</td>\n",
       "      <td>0.0</td>\n",
       "      <td>0.0</td>\n",
       "      <td>0.0</td>\n",
       "    </tr>\n",
       "    <tr>\n",
       "      <th>4</th>\n",
       "      <td>0.931034</td>\n",
       "      <td>0.0</td>\n",
       "      <td>0.283457</td>\n",
       "      <td>0.188117</td>\n",
       "      <td>0.000000</td>\n",
       "      <td>0.000000</td>\n",
       "      <td>0.0</td>\n",
       "      <td>0.0</td>\n",
       "      <td>0.0</td>\n",
       "      <td>0.0</td>\n",
       "      <td>...</td>\n",
       "      <td>0.0</td>\n",
       "      <td>1.0</td>\n",
       "      <td>0.0</td>\n",
       "      <td>1.0</td>\n",
       "      <td>0.0</td>\n",
       "      <td>0.0</td>\n",
       "      <td>0.0</td>\n",
       "      <td>1.0</td>\n",
       "      <td>0.0</td>\n",
       "      <td>0.0</td>\n",
       "    </tr>\n",
       "  </tbody>\n",
       "</table>\n",
       "<p>5 rows × 21 columns</p>\n",
       "</div>"
      ],
      "text/plain": [
       "        age  education  loan_amount  asset_cost  no_of_loans  \\\n",
       "0  0.275862        0.0     0.290708    0.151547     0.018349   \n",
       "1  0.241379        0.0     0.236200    0.112911     0.027523   \n",
       "2  0.241379        0.0     0.299893    0.238070     0.000000   \n",
       "3  0.827586        1.0     0.276912    0.139522     0.036697   \n",
       "4  0.931034        0.0     0.283457    0.188117     0.000000   \n",
       "\n",
       "   no_of_curr_loans  last_delinq_none  numloan_category  currloan_category  \\\n",
       "0          0.060606               0.0               1.0                1.0   \n",
       "1          0.090909               0.0               1.0                1.0   \n",
       "2          0.000000               0.0               0.0                0.0   \n",
       "3          0.090909               0.0               1.0                1.0   \n",
       "4          0.000000               0.0               0.0                0.0   \n",
       "\n",
       "   age_category_young  ...  age_category_midsenior  age_category_senior  \\\n",
       "0                 1.0  ...                     0.0                  0.0   \n",
       "1                 1.0  ...                     0.0                  0.0   \n",
       "2                 1.0  ...                     0.0                  0.0   \n",
       "3                 0.0  ...                     1.0                  0.0   \n",
       "4                 0.0  ...                     0.0                  1.0   \n",
       "\n",
       "   loan_category_low  loan_category_mid1  loan_category_mid2  \\\n",
       "0                0.0                 1.0                 0.0   \n",
       "1                1.0                 0.0                 0.0   \n",
       "2                0.0                 0.0                 1.0   \n",
       "3                0.0                 1.0                 0.0   \n",
       "4                0.0                 1.0                 0.0   \n",
       "\n",
       "   loan_category_high  asset_category_M1  asset_category_M2  \\\n",
       "0                 0.0                1.0                0.0   \n",
       "1                 0.0                1.0                0.0   \n",
       "2                 0.0                0.0                0.0   \n",
       "3                 0.0                1.0                0.0   \n",
       "4                 0.0                0.0                1.0   \n",
       "\n",
       "   asset_category_H1  asset_category_H2  \n",
       "0                0.0                0.0  \n",
       "1                0.0                0.0  \n",
       "2                1.0                0.0  \n",
       "3                0.0                0.0  \n",
       "4                0.0                0.0  \n",
       "\n",
       "[5 rows x 21 columns]"
      ]
     },
     "execution_count": 72,
     "metadata": {},
     "output_type": "execute_result"
    }
   ],
   "source": [
    "test2.head()"
   ]
  },
  {
   "cell_type": "markdown",
   "id": "22539795",
   "metadata": {},
   "source": [
    "#### TRAIN TEST SPLIT"
   ]
  },
  {
   "cell_type": "code",
   "execution_count": 73,
   "id": "788639b2",
   "metadata": {},
   "outputs": [],
   "source": [
    "from sklearn.model_selection import train_test_split"
   ]
  },
  {
   "cell_type": "code",
   "execution_count": 97,
   "id": "43e1d4e7",
   "metadata": {},
   "outputs": [],
   "source": [
    "X_train, X_test, y_train, y_test = train_test_split(train2,y,random_state=45,stratify=y,test_size=0.2)"
   ]
  },
  {
   "cell_type": "code",
   "execution_count": 75,
   "id": "2f9da7ef",
   "metadata": {},
   "outputs": [],
   "source": [
    "from sklearn import tree"
   ]
  },
  {
   "cell_type": "code",
   "execution_count": 76,
   "id": "0650726c",
   "metadata": {},
   "outputs": [],
   "source": [
    "dtc=tree.DecisionTreeClassifier()"
   ]
  },
  {
   "cell_type": "code",
   "execution_count": 77,
   "id": "2c8022f3",
   "metadata": {},
   "outputs": [
    {
     "data": {
      "text/html": [
       "<style>#sk-container-id-1 {color: black;background-color: white;}#sk-container-id-1 pre{padding: 0;}#sk-container-id-1 div.sk-toggleable {background-color: white;}#sk-container-id-1 label.sk-toggleable__label {cursor: pointer;display: block;width: 100%;margin-bottom: 0;padding: 0.3em;box-sizing: border-box;text-align: center;}#sk-container-id-1 label.sk-toggleable__label-arrow:before {content: \"▸\";float: left;margin-right: 0.25em;color: #696969;}#sk-container-id-1 label.sk-toggleable__label-arrow:hover:before {color: black;}#sk-container-id-1 div.sk-estimator:hover label.sk-toggleable__label-arrow:before {color: black;}#sk-container-id-1 div.sk-toggleable__content {max-height: 0;max-width: 0;overflow: hidden;text-align: left;background-color: #f0f8ff;}#sk-container-id-1 div.sk-toggleable__content pre {margin: 0.2em;color: black;border-radius: 0.25em;background-color: #f0f8ff;}#sk-container-id-1 input.sk-toggleable__control:checked~div.sk-toggleable__content {max-height: 200px;max-width: 100%;overflow: auto;}#sk-container-id-1 input.sk-toggleable__control:checked~label.sk-toggleable__label-arrow:before {content: \"▾\";}#sk-container-id-1 div.sk-estimator input.sk-toggleable__control:checked~label.sk-toggleable__label {background-color: #d4ebff;}#sk-container-id-1 div.sk-label input.sk-toggleable__control:checked~label.sk-toggleable__label {background-color: #d4ebff;}#sk-container-id-1 input.sk-hidden--visually {border: 0;clip: rect(1px 1px 1px 1px);clip: rect(1px, 1px, 1px, 1px);height: 1px;margin: -1px;overflow: hidden;padding: 0;position: absolute;width: 1px;}#sk-container-id-1 div.sk-estimator {font-family: monospace;background-color: #f0f8ff;border: 1px dotted black;border-radius: 0.25em;box-sizing: border-box;margin-bottom: 0.5em;}#sk-container-id-1 div.sk-estimator:hover {background-color: #d4ebff;}#sk-container-id-1 div.sk-parallel-item::after {content: \"\";width: 100%;border-bottom: 1px solid gray;flex-grow: 1;}#sk-container-id-1 div.sk-label:hover label.sk-toggleable__label {background-color: #d4ebff;}#sk-container-id-1 div.sk-serial::before {content: \"\";position: absolute;border-left: 1px solid gray;box-sizing: border-box;top: 0;bottom: 0;left: 50%;z-index: 0;}#sk-container-id-1 div.sk-serial {display: flex;flex-direction: column;align-items: center;background-color: white;padding-right: 0.2em;padding-left: 0.2em;position: relative;}#sk-container-id-1 div.sk-item {position: relative;z-index: 1;}#sk-container-id-1 div.sk-parallel {display: flex;align-items: stretch;justify-content: center;background-color: white;position: relative;}#sk-container-id-1 div.sk-item::before, #sk-container-id-1 div.sk-parallel-item::before {content: \"\";position: absolute;border-left: 1px solid gray;box-sizing: border-box;top: 0;bottom: 0;left: 50%;z-index: -1;}#sk-container-id-1 div.sk-parallel-item {display: flex;flex-direction: column;z-index: 1;position: relative;background-color: white;}#sk-container-id-1 div.sk-parallel-item:first-child::after {align-self: flex-end;width: 50%;}#sk-container-id-1 div.sk-parallel-item:last-child::after {align-self: flex-start;width: 50%;}#sk-container-id-1 div.sk-parallel-item:only-child::after {width: 0;}#sk-container-id-1 div.sk-dashed-wrapped {border: 1px dashed gray;margin: 0 0.4em 0.5em 0.4em;box-sizing: border-box;padding-bottom: 0.4em;background-color: white;}#sk-container-id-1 div.sk-label label {font-family: monospace;font-weight: bold;display: inline-block;line-height: 1.2em;}#sk-container-id-1 div.sk-label-container {text-align: center;}#sk-container-id-1 div.sk-container {/* jupyter's `normalize.less` sets `[hidden] { display: none; }` but bootstrap.min.css set `[hidden] { display: none !important; }` so we also need the `!important` here to be able to override the default hidden behavior on the sphinx rendered scikit-learn.org. See: https://github.com/scikit-learn/scikit-learn/issues/21755 */display: inline-block !important;position: relative;}#sk-container-id-1 div.sk-text-repr-fallback {display: none;}</style><div id=\"sk-container-id-1\" class=\"sk-top-container\"><div class=\"sk-text-repr-fallback\"><pre>DecisionTreeClassifier()</pre><b>In a Jupyter environment, please rerun this cell to show the HTML representation or trust the notebook. <br />On GitHub, the HTML representation is unable to render, please try loading this page with nbviewer.org.</b></div><div class=\"sk-container\" hidden><div class=\"sk-item\"><div class=\"sk-estimator sk-toggleable\"><input class=\"sk-toggleable__control sk-hidden--visually\" id=\"sk-estimator-id-1\" type=\"checkbox\" checked><label for=\"sk-estimator-id-1\" class=\"sk-toggleable__label sk-toggleable__label-arrow\">DecisionTreeClassifier</label><div class=\"sk-toggleable__content\"><pre>DecisionTreeClassifier()</pre></div></div></div></div></div>"
      ],
      "text/plain": [
       "DecisionTreeClassifier()"
      ]
     },
     "execution_count": 77,
     "metadata": {},
     "output_type": "execute_result"
    }
   ],
   "source": [
    "dtc.fit(X_train,y_train)"
   ]
  },
  {
   "cell_type": "code",
   "execution_count": 79,
   "id": "2a0eca5b",
   "metadata": {},
   "outputs": [],
   "source": [
    "pred_tree=dtc.predict(X_test)"
   ]
  },
  {
   "cell_type": "code",
   "execution_count": 80,
   "id": "019f03b5",
   "metadata": {},
   "outputs": [],
   "source": [
    "from sklearn.metrics import classification_report\n"
   ]
  },
  {
   "cell_type": "code",
   "execution_count": 81,
   "id": "fb9c249a",
   "metadata": {},
   "outputs": [
    {
     "name": "stdout",
     "output_type": "stream",
     "text": [
      "              precision    recall  f1-score   support\n",
      "\n",
      "           0       0.61      0.58      0.59      1260\n",
      "           1       0.41      0.44      0.42       840\n",
      "\n",
      "    accuracy                           0.52      2100\n",
      "   macro avg       0.51      0.51      0.51      2100\n",
      "weighted avg       0.53      0.52      0.53      2100\n",
      "\n"
     ]
    }
   ],
   "source": [
    "print(classification_report(y_test,pred_tree))"
   ]
  },
  {
   "cell_type": "code",
   "execution_count": 82,
   "id": "6c3619fc",
   "metadata": {},
   "outputs": [],
   "source": [
    "from sklearn.model_selection import GridSearchCV"
   ]
  },
  {
   "cell_type": "code",
   "execution_count": 116,
   "id": "504cba46",
   "metadata": {},
   "outputs": [
    {
     "name": "stdout",
     "output_type": "stream",
     "text": [
      "0.5269629535842105\n",
      "DecisionTreeClassifier(max_depth=10, min_samples_split=10)\n"
     ]
    }
   ],
   "source": [
    "params ={'max_depth':[5,6,7,8,9,10],'criterion':[\"gini\", \"entropy\", \"log_loss\"],'min_samples_split':[2,5,10,15,20,25,30,35,45,50,100,200]}\n",
    "grid = GridSearchCV(cv=5,estimator=dtc,param_grid=params,scoring='f1_macro')\n",
    "grid.fit(train2, y)\n",
    "print(grid.best_score_)\n",
    "print(grid.best_estimator_)"
   ]
  },
  {
   "cell_type": "code",
   "execution_count": 117,
   "id": "46367520",
   "metadata": {},
   "outputs": [],
   "source": [
    "dtc2=tree.DecisionTreeClassifier(max_depth=10,min_samples_split=10)"
   ]
  },
  {
   "cell_type": "code",
   "execution_count": 118,
   "id": "f6df31a6",
   "metadata": {},
   "outputs": [
    {
     "data": {
      "text/html": [
       "<style>#sk-container-id-6 {color: black;background-color: white;}#sk-container-id-6 pre{padding: 0;}#sk-container-id-6 div.sk-toggleable {background-color: white;}#sk-container-id-6 label.sk-toggleable__label {cursor: pointer;display: block;width: 100%;margin-bottom: 0;padding: 0.3em;box-sizing: border-box;text-align: center;}#sk-container-id-6 label.sk-toggleable__label-arrow:before {content: \"▸\";float: left;margin-right: 0.25em;color: #696969;}#sk-container-id-6 label.sk-toggleable__label-arrow:hover:before {color: black;}#sk-container-id-6 div.sk-estimator:hover label.sk-toggleable__label-arrow:before {color: black;}#sk-container-id-6 div.sk-toggleable__content {max-height: 0;max-width: 0;overflow: hidden;text-align: left;background-color: #f0f8ff;}#sk-container-id-6 div.sk-toggleable__content pre {margin: 0.2em;color: black;border-radius: 0.25em;background-color: #f0f8ff;}#sk-container-id-6 input.sk-toggleable__control:checked~div.sk-toggleable__content {max-height: 200px;max-width: 100%;overflow: auto;}#sk-container-id-6 input.sk-toggleable__control:checked~label.sk-toggleable__label-arrow:before {content: \"▾\";}#sk-container-id-6 div.sk-estimator input.sk-toggleable__control:checked~label.sk-toggleable__label {background-color: #d4ebff;}#sk-container-id-6 div.sk-label input.sk-toggleable__control:checked~label.sk-toggleable__label {background-color: #d4ebff;}#sk-container-id-6 input.sk-hidden--visually {border: 0;clip: rect(1px 1px 1px 1px);clip: rect(1px, 1px, 1px, 1px);height: 1px;margin: -1px;overflow: hidden;padding: 0;position: absolute;width: 1px;}#sk-container-id-6 div.sk-estimator {font-family: monospace;background-color: #f0f8ff;border: 1px dotted black;border-radius: 0.25em;box-sizing: border-box;margin-bottom: 0.5em;}#sk-container-id-6 div.sk-estimator:hover {background-color: #d4ebff;}#sk-container-id-6 div.sk-parallel-item::after {content: \"\";width: 100%;border-bottom: 1px solid gray;flex-grow: 1;}#sk-container-id-6 div.sk-label:hover label.sk-toggleable__label {background-color: #d4ebff;}#sk-container-id-6 div.sk-serial::before {content: \"\";position: absolute;border-left: 1px solid gray;box-sizing: border-box;top: 0;bottom: 0;left: 50%;z-index: 0;}#sk-container-id-6 div.sk-serial {display: flex;flex-direction: column;align-items: center;background-color: white;padding-right: 0.2em;padding-left: 0.2em;position: relative;}#sk-container-id-6 div.sk-item {position: relative;z-index: 1;}#sk-container-id-6 div.sk-parallel {display: flex;align-items: stretch;justify-content: center;background-color: white;position: relative;}#sk-container-id-6 div.sk-item::before, #sk-container-id-6 div.sk-parallel-item::before {content: \"\";position: absolute;border-left: 1px solid gray;box-sizing: border-box;top: 0;bottom: 0;left: 50%;z-index: -1;}#sk-container-id-6 div.sk-parallel-item {display: flex;flex-direction: column;z-index: 1;position: relative;background-color: white;}#sk-container-id-6 div.sk-parallel-item:first-child::after {align-self: flex-end;width: 50%;}#sk-container-id-6 div.sk-parallel-item:last-child::after {align-self: flex-start;width: 50%;}#sk-container-id-6 div.sk-parallel-item:only-child::after {width: 0;}#sk-container-id-6 div.sk-dashed-wrapped {border: 1px dashed gray;margin: 0 0.4em 0.5em 0.4em;box-sizing: border-box;padding-bottom: 0.4em;background-color: white;}#sk-container-id-6 div.sk-label label {font-family: monospace;font-weight: bold;display: inline-block;line-height: 1.2em;}#sk-container-id-6 div.sk-label-container {text-align: center;}#sk-container-id-6 div.sk-container {/* jupyter's `normalize.less` sets `[hidden] { display: none; }` but bootstrap.min.css set `[hidden] { display: none !important; }` so we also need the `!important` here to be able to override the default hidden behavior on the sphinx rendered scikit-learn.org. See: https://github.com/scikit-learn/scikit-learn/issues/21755 */display: inline-block !important;position: relative;}#sk-container-id-6 div.sk-text-repr-fallback {display: none;}</style><div id=\"sk-container-id-6\" class=\"sk-top-container\"><div class=\"sk-text-repr-fallback\"><pre>DecisionTreeClassifier(max_depth=10, min_samples_split=10)</pre><b>In a Jupyter environment, please rerun this cell to show the HTML representation or trust the notebook. <br />On GitHub, the HTML representation is unable to render, please try loading this page with nbviewer.org.</b></div><div class=\"sk-container\" hidden><div class=\"sk-item\"><div class=\"sk-estimator sk-toggleable\"><input class=\"sk-toggleable__control sk-hidden--visually\" id=\"sk-estimator-id-6\" type=\"checkbox\" checked><label for=\"sk-estimator-id-6\" class=\"sk-toggleable__label sk-toggleable__label-arrow\">DecisionTreeClassifier</label><div class=\"sk-toggleable__content\"><pre>DecisionTreeClassifier(max_depth=10, min_samples_split=10)</pre></div></div></div></div></div>"
      ],
      "text/plain": [
       "DecisionTreeClassifier(max_depth=10, min_samples_split=10)"
      ]
     },
     "execution_count": 118,
     "metadata": {},
     "output_type": "execute_result"
    }
   ],
   "source": [
    "dtc2.fit(X_train,y_train)"
   ]
  },
  {
   "cell_type": "code",
   "execution_count": 119,
   "id": "f63d3522",
   "metadata": {},
   "outputs": [],
   "source": [
    "pred2_tree=dtc2.predict(X_test)"
   ]
  },
  {
   "cell_type": "code",
   "execution_count": 120,
   "id": "fec701e1",
   "metadata": {},
   "outputs": [
    {
     "name": "stdout",
     "output_type": "stream",
     "text": [
      "              precision    recall  f1-score   support\n",
      "\n",
      "           0       0.63      0.76      0.69       840\n",
      "           1       0.47      0.32      0.38       560\n",
      "\n",
      "    accuracy                           0.59      1400\n",
      "   macro avg       0.55      0.54      0.54      1400\n",
      "weighted avg       0.57      0.59      0.57      1400\n",
      "\n"
     ]
    }
   ],
   "source": [
    "print(classification_report(y_test,pred2_tree))"
   ]
  },
  {
   "cell_type": "code",
   "execution_count": 121,
   "id": "18f8d631",
   "metadata": {},
   "outputs": [],
   "source": [
    "tree_predictions=dtc2.predict(test2)\n",
    "submission['loan_default']=tree_predictions\n",
    "submission.to_csv('Desktop/Analytics_Vidhya/summer training/tree_depth_10_29_1.csv',index=False)"
   ]
  },
  {
   "cell_type": "code",
   "execution_count": null,
   "id": "832f9d60",
   "metadata": {},
   "outputs": [],
   "source": []
  }
 ],
 "metadata": {
  "kernelspec": {
   "display_name": "Python 3 (ipykernel)",
   "language": "python",
   "name": "python3"
  },
  "language_info": {
   "codemirror_mode": {
    "name": "ipython",
    "version": 3
   },
   "file_extension": ".py",
   "mimetype": "text/x-python",
   "name": "python",
   "nbconvert_exporter": "python",
   "pygments_lexer": "ipython3",
   "version": "3.8.13"
  }
 },
 "nbformat": 4,
 "nbformat_minor": 5
}
